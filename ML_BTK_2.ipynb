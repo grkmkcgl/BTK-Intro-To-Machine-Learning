{
  "nbformat": 4,
  "nbformat_minor": 0,
  "metadata": {
    "colab": {
      "provenance": [],
      "authorship_tag": "ABX9TyP3Otz4ss6uGiDBtg5EDL+1"
    },
    "kernelspec": {
      "name": "python3",
      "display_name": "Python 3"
    },
    "language_info": {
      "name": "python"
    }
  },
  "cells": [
    {
      "cell_type": "markdown",
      "source": [
        "# For data manipulation parts and codes use link:\n",
        "\n",
        "[ML BTK-1 Colab](https://colab.research.google.com/drive/1R8bJJypAHdpol59H9bgMTDRWCKzTgNoC#scrollTo=UIl8pb7dUvGS)\n",
        "\n",
        "Next:\n",
        "SVR Algorithm\n",
        "[SVR Colab](https://colab.research.google.com/drive/1QWtItyz5mVSwWiGtQdMzI6OD3_JwuGzO#scrollTo=ZsEukbjNIUvm)"
      ],
      "metadata": {
        "id": "q6k-IcfPlt2X"
      }
    },
    {
      "cell_type": "markdown",
      "source": [
        "## **PREDICTION ALGORITHMS / importing libraries**\n",
        "\n",
        "We will use classification for categorical data and prediction for numerical data.\n",
        "\n",
        "Forecasting and prediction are different. We can use prediction to predict past values as well."
      ],
      "metadata": {
        "id": "Kjg5rH7hg67R"
      }
    },
    {
      "cell_type": "code",
      "source": [
        "import io\n",
        "import pandas as pd\n",
        "import numpy as np\n",
        "import matplotlib.pyplot as plt\n",
        "from google.colab import files"
      ],
      "metadata": {
        "id": "Rx3YdK3thz7d"
      },
      "execution_count": 6,
      "outputs": []
    },
    {
      "cell_type": "code",
      "source": [
        "uploaded = files.upload()"
      ],
      "metadata": {
        "id": "LiB4ppC9i6L_",
        "colab": {
          "resources": {
            "http://localhost:8080/nbextensions/google.colab/files.js": {
              "data": "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",
              "ok": true,
              "headers": [
                [
                  "content-type",
                  "application/javascript"
                ]
              ],
              "status": 200,
              "status_text": ""
            }
          },
          "base_uri": "https://localhost:8080/",
          "height": 38
        },
        "outputId": "1f561518-731a-484a-8218-f7f0107854ed"
      },
      "execution_count": null,
      "outputs": [
        {
          "output_type": "display_data",
          "data": {
            "text/plain": [
              "<IPython.core.display.HTML object>"
            ],
            "text/html": [
              "\n",
              "     <input type=\"file\" id=\"files-5634532d-bde7-4637-a94d-18d11c7ccbed\" name=\"files[]\" multiple disabled\n",
              "        style=\"border:none\" />\n",
              "     <output id=\"result-5634532d-bde7-4637-a94d-18d11c7ccbed\">\n",
              "      Upload widget is only available when the cell has been executed in the\n",
              "      current browser session. Please rerun this cell to enable.\n",
              "      </output>\n",
              "      <script src=\"/nbextensions/google.colab/files.js\"></script> "
            ]
          },
          "metadata": {}
        }
      ]
    },
    {
      "cell_type": "markdown",
      "source": [
        "# SIMPLE LINEAR REGRESSION\n",
        "\n",
        "We will try to find line of best fit using *y = ax + b*.\n",
        "\n",
        "example for simple linear regression:\n",
        "\n",
        "*sales = a + b (months) + e*\n"
      ],
      "metadata": {
        "id": "5oY-BRwEkmCe"
      }
    },
    {
      "cell_type": "code",
      "source": [
        "data = pd.read_csv(io.BytesIO(uploaded['satislar.txt']))\n",
        "print(\"Done\")"
      ],
      "metadata": {
        "id": "SSJmQqyHmnxv"
      },
      "execution_count": null,
      "outputs": []
    },
    {
      "cell_type": "code",
      "source": [
        "months = data[['Aylar']]\n",
        "sales = data[['Satislar']]\n",
        "print(sales)\n",
        "# or we can use instead of data[['Satislar']]\n",
        "# sales2 = data.iloc[:,1:2].values\n",
        "# here months is independent sales is dependent variable.\n",
        "from sklearn.model_selection import train_test_split\n",
        "x_train, x_test, y_train, y_test = train_test_split(months, sales, \n",
        "                                                    test_size=0.33,\n",
        "                                                    random_state=0)\n",
        "\n",
        "# standardize data\n",
        "\n",
        "# from sklearn.preprocessing import StandardScaler\n",
        "# sc = StandardScaler()\n",
        "# X_train = sc.fit_transform(x_train)\n",
        "# X_test = sc.fit_transform(x_test)\n",
        "\n",
        "# Y_train = sc.fit_transform(y_train)\n",
        "# Y_test = sc.fit_transform(y_test)\n"
      ],
      "metadata": {
        "id": "WGzGMsw0kr7n"
      },
      "execution_count": null,
      "outputs": []
    },
    {
      "cell_type": "code",
      "source": [
        "from sklearn.linear_model import LinearRegression\n",
        "lr = LinearRegression()\n",
        "lr.fit(x_train, y_train)\n",
        "predict = lr.predict(x_test)"
      ],
      "metadata": {
        "id": "RdpXiZYp643J"
      },
      "execution_count": null,
      "outputs": []
    },
    {
      "cell_type": "markdown",
      "source": [
        "Make graph of datas using matplotlib.pyplot"
      ],
      "metadata": {
        "id": "LURLSU5_-RNY"
      }
    },
    {
      "cell_type": "code",
      "source": [
        "# first sort values by index\n",
        "x_train = x_train.sort_index()\n",
        "y_train = y_train.sort_index()\n",
        "\n",
        "plt.plot(x_train, y_train)\n",
        "plt.plot(x_test, lr.predict(x_test))\n",
        "\n",
        "plt.title(\"Sale Prediction\")\n",
        "plt.xlabel(\"Months\")\n",
        "plt.ylabel(\"Sales\")"
      ],
      "metadata": {
        "id": "-oeaRRiH-YAg"
      },
      "execution_count": null,
      "outputs": []
    },
    {
      "cell_type": "markdown",
      "source": [
        "# MULTIPLE LINEAR REGRESSION\n",
        "\n",
        "*y = (beta0) + (beta1)(x1) + (beta2)(x2) + (beta3)(x3) + epsilon*\n",
        "\n",
        "example for multiple linear regression:\n",
        "\n",
        "*height = a + b(weight) + c(age) + d(foot size) + e*\n"
      ],
      "metadata": {
        "id": "Fy1BlSR5Aqa4"
      }
    },
    {
      "cell_type": "markdown",
      "source": [
        "---\n",
        "\n",
        "> Be aware of dummy variable trap situation. Some algorithms effect much than others.\n",
        "\n",
        "> It's happen when we change categorical data to numerical like one hat encoding.\n",
        "\n",
        "---"
      ],
      "metadata": {
        "id": "Q3p7UNzuKQtr"
      }
    },
    {
      "cell_type": "markdown",
      "source": [
        "p-value says that: \n",
        "\n",
        "How many example if I find that I can disprove null hypothesis. (p generally taken as 0.05 (%5))\n",
        "\n",
        "H0 is null, H1 is alternative hypothesis. null hypothesis possibility of being wrong increases when p gets smaller. At the same time, possibility of being right of H1 increases. Vice versa, when p gets bigger, null hypothesis is more likely to be true.\n",
        "\n",
        "\n",
        "In below code first we prepare data."
      ],
      "metadata": {
        "id": "OCT5wQpl5h_C"
      }
    },
    {
      "cell_type": "code",
      "source": [
        "data = pd.read_csv(io.BytesIO(uploaded['veriler.txt']))\n",
        "print(\"Done\")"
      ],
      "metadata": {
        "id": "tzPRSsrLmxR0"
      },
      "execution_count": null,
      "outputs": []
    },
    {
      "cell_type": "code",
      "source": [
        "# encode sex column to 1s and 0s\n",
        "c = data.iloc[:,-1:].values\n",
        "\n",
        "from sklearn import preprocessing\n",
        "\n",
        "le = preprocessing.LabelEncoder()\n",
        "c[:,-1] = le.fit_transform(data.iloc[:,-1])\n",
        "\n",
        "ohe = preprocessing.OneHotEncoder()\n",
        "c = ohe.fit_transform(c).toarray()\n",
        "\n",
        "# below code is from before little modified\n",
        "country = data.iloc[:,0:1].values\n",
        "\n",
        "le = preprocessing.LabelEncoder()\n",
        "country[:,0] = le.fit_transform(data.iloc[:,0])\n",
        "\n",
        "ohe = preprocessing.OneHotEncoder()\n",
        "country = ohe.fit_transform(country).toarray()\n",
        "\n",
        "\n",
        "\n",
        "age = data.iloc[:,1:4].values\n",
        "\n",
        "dataLength = len(data)\n",
        "\n",
        "result = pd.DataFrame(data=country, index = range(dataLength),\n",
        "                      columns = ['fr', 'tr', 'us'])\n",
        "\n",
        "result2 = pd.DataFrame(data = age, index = range(dataLength),\n",
        "                       columns=['boy', 'kilo', 'yas'])\n",
        "sex = data.iloc[:,-1].values\n",
        "result3 = pd.DataFrame(data = c[:,:1], index = range(dataLength),\n",
        "                       columns=['cinsiyet'])\n",
        "\n",
        "\n",
        "s = pd.concat([result, result2], axis=1) \n",
        "s2 = pd.concat([s, result3], axis=1)\n",
        "print(s2)\n",
        "print(s)\n",
        "print(result3)\n",
        "# split sets\n",
        "from sklearn.model_selection import train_test_split\n",
        "x_train, x_test, y_train, y_test = train_test_split(s, result3, \n",
        "                                                    test_size=0.33,\n",
        "                                                    random_state=0)"
      ],
      "metadata": {
        "id": "8wX4O07HKqd4"
      },
      "execution_count": null,
      "outputs": []
    },
    {
      "cell_type": "markdown",
      "source": [
        "Train ML model using data and predict sex."
      ],
      "metadata": {
        "id": "Di1uUq345zwQ"
      }
    },
    {
      "cell_type": "code",
      "source": [
        "from sklearn.linear_model import LinearRegression\n",
        "regressor = LinearRegression()\n",
        "regressor.fit(x_train, y_train)\n",
        "\n",
        "y_predict = regressor.predict(x_test)\n",
        "print(y_predict)  # compare with y_test\n",
        "print(\"-----Real Results-----\")\n",
        "print(y_test)"
      ],
      "metadata": {
        "id": "cSmyJWW2521h"
      },
      "execution_count": null,
      "outputs": []
    },
    {
      "cell_type": "markdown",
      "source": [
        "Predict height."
      ],
      "metadata": {
        "id": "GOHzXjeZGZ1k"
      }
    },
    {
      "cell_type": "code",
      "source": [
        "# first prepare data:\n",
        "height = s2.iloc[:,3:4].values\n",
        "\n",
        "left_side_of_height_column = s2.iloc[:,:3]\n",
        "right_side_of_height_column = s2.iloc[:,4:]\n",
        "\n",
        "without_height = pd.concat([left_side_of_height_column, right_side_of_height_column],\n",
        "                           axis = 1)\n",
        "\n",
        "x_train, x_test, y_train, y_test = train_test_split(without_height, height, \n",
        "                                                    test_size=0.33,\n",
        "                                                    random_state=0)\n",
        "\n",
        "r2 = LinearRegression()\n",
        "r2.fit(x_train, y_train)\n",
        "\n",
        "y_predict = r2.predict(x_test)\n",
        "# compare with y_test\n",
        "print(y_predict)\n",
        "print(\"-----Real Results-----\")\n",
        "print(y_test)"
      ],
      "metadata": {
        "id": "kdM0zC7VGfP_"
      },
      "execution_count": null,
      "outputs": []
    },
    {
      "cell_type": "markdown",
      "source": [
        "# Backward Elimination\n",
        "\n",
        "In before section we used all data to predict height for example but maybe we don't need all data. In this section we will use backward elimination to erase some data."
      ],
      "metadata": {
        "id": "gYlTkrK8Jd6S"
      }
    },
    {
      "cell_type": "markdown",
      "source": [
        "Calculating p-value to eveluate success of model prediction. (continue using veriler.txt data)"
      ],
      "metadata": {
        "id": "lrWvG6c3KkxL"
      }
    },
    {
      "cell_type": "code",
      "source": [
        "# we will test values one by one by taking out and eveluating scores\n",
        "# will take out highest p-value then continue for next highest\n",
        "\n",
        "# IN OUR MODEL, we don't have constant beta0 variable. We are trying to add\n",
        "# that variable now. First we'll add a column has 22 ones in it.\n",
        "\n",
        "import statsmodels.api as sm\n",
        "\n",
        "beta0 = np.append(arr = np.ones((22,1)).astype(int), values=data, axis=1)\n",
        "# print(beta0)\n",
        "\n",
        "# X_l is array containing our independent variable, height is dependent var\n",
        "X_l = without_height.iloc[:,[0,1,2,3,4,5]].values\n",
        "X_l = np.array(X_l, dtype=float)\n",
        "\n",
        "# statistical results:\n",
        "model = sm.OLS(height, X_l).fit()\n",
        "print(model.summary())\n",
        "\n",
        "# we saw x5 has highest p value we delete 4th column (x5 => 4th column)it\n",
        "X_l = without_height.iloc[:,[0,1,2,3,5]].values\n",
        "X_l = np.array(X_l, dtype=float)\n",
        "model = sm.OLS(height, X_l).fit()\n",
        "print(model.summary())"
      ],
      "metadata": {
        "id": "oahvrPVwKtfC"
      },
      "execution_count": null,
      "outputs": []
    },
    {
      "cell_type": "markdown",
      "source": [
        "# Polynomial Regression\n",
        "\n",
        "*y = (beta0) + (beta1)(x) + (beta2)(x^2) + ... + (betah)(x^h) + epsilon*\n",
        "\n",
        "\n",
        "or it can be **multi-varient**\n",
        "\n",
        "*y = (beta0) + (beta1)(x1) + (beta2)(x2) + (beta11)(x1^2) + (beta22)(x2^2) + (beta12)(x1)(x2) + epsilon*"
      ],
      "metadata": {
        "id": "xf8lJdl3jVAB"
      }
    },
    {
      "cell_type": "code",
      "source": [
        "data = pd.read_csv(io.BytesIO(uploaded['maaslar.txt']))\n",
        "print(data)"
      ],
      "metadata": {
        "id": "ggA1dTCBjoIp"
      },
      "execution_count": null,
      "outputs": []
    },
    {
      "cell_type": "code",
      "source": [
        "# import data and linear regression\n",
        "x = data.iloc[:,1:2]\n",
        "y = data.iloc[:,2:]\n",
        "# convert to numpy array\n",
        "X = x.values\n",
        "Y = y.values\n",
        "\n",
        "from sklearn.linear_model import LinearRegression\n",
        "lin_reg = LinearRegression()\n",
        "lin_reg.fit(X, Y)\n",
        "\n",
        "plt.scatter(X, Y, color='red')\n",
        "plt.plot(x, lin_reg.predict(X), color='blue')\n",
        "plt.show()"
      ],
      "metadata": {
        "id": "TCam5jH0m5x5"
      },
      "execution_count": null,
      "outputs": []
    },
    {
      "cell_type": "code",
      "source": [
        "# Polynomial regression\n",
        "from sklearn.preprocessing import PolynomialFeatures\n",
        "poly_reg = PolynomialFeatures(degree = 4)\n",
        "x_poly = poly_reg.fit_transform(X)\n",
        "print(x_poly)\n",
        "\n",
        "lin_reg2 = LinearRegression()\n",
        "lin_reg2.fit(x_poly, y)\n",
        "plt.scatter(X,Y, color='green')\n",
        "plt.plot(X, lin_reg2.predict(poly_reg.fit_transform(X)), color='blue')"
      ],
      "metadata": {
        "id": "vbAkr-8q4rIC"
      },
      "execution_count": null,
      "outputs": []
    },
    {
      "cell_type": "code",
      "source": [
        "# Predict Unknown Values\n",
        "\n",
        "# for linear regression\n",
        "print(lin_reg.predict([[11]]))\n",
        "print(lin_reg.predict([[6.6]]))\n",
        "\n",
        "# for poly reg\n",
        "print(lin_reg2.predict(poly_reg.fit_transform([[11]])))\n",
        "print(lin_reg2.predict(poly_reg.fit_transform([[6.6]])))\n"
      ],
      "metadata": {
        "id": "Ibmmw87i9ZBs"
      },
      "execution_count": null,
      "outputs": []
    }
  ]
}