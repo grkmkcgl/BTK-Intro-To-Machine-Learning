{
  "nbformat": 4,
  "nbformat_minor": 0,
  "metadata": {
    "colab": {
      "provenance": [],
      "authorship_tag": "ABX9TyOru9DzxhdZCX+iSuM2xXkB"
    },
    "kernelspec": {
      "name": "python3",
      "display_name": "Python 3"
    },
    "language_info": {
      "name": "python"
    }
  },
  "cells": [
    {
      "cell_type": "markdown",
      "source": [
        "## **Classification Algorithms**\n",
        "\n",
        "Prediction of data which is *not numerical*.\n",
        "\n",
        "By using confusion matrix, we can eveluate success of classification algorithm.\n"
      ],
      "metadata": {
        "id": "j3vksvfThuXY"
      }
    },
    {
      "cell_type": "code",
      "source": [
        "import io\n",
        "import pandas as pd\n",
        "import numpy as np\n",
        "import matplotlib.pyplot as plt\n",
        "from google.colab import files"
      ],
      "metadata": {
        "id": "4Nestju_kLbG"
      },
      "execution_count": null,
      "outputs": []
    },
    {
      "cell_type": "markdown",
      "source": [
        "# Logistic Regression Algorithm"
      ],
      "metadata": {
        "id": "k3i02e7Rjove"
      }
    },
    {
      "cell_type": "code",
      "source": [
        "# use veriler.txt\n",
        "uploaded = files.upload()"
      ],
      "metadata": {
        "id": "H4RFv0_Moeh-"
      },
      "execution_count": null,
      "outputs": []
    },
    {
      "cell_type": "code",
      "execution_count": null,
      "metadata": {
        "colab": {
          "base_uri": "https://localhost:8080/"
        },
        "id": "XM401CLshn0h",
        "outputId": "b422a852-5b30-449b-ee94-e631b4d48751"
      },
      "outputs": [
        {
          "output_type": "stream",
          "name": "stdout",
          "text": [
            "Done\n"
          ]
        }
      ],
      "source": [
        "data = pd.read_csv(io.BytesIO(uploaded['veriler.txt']))\n",
        "print(\"Done\")"
      ]
    },
    {
      "cell_type": "code",
      "source": [
        "# dependent variables\n",
        "x = data.iloc[:,1:4].values\n",
        "# independent variables\n",
        "y = data.iloc[:,4:].values"
      ],
      "metadata": {
        "id": "Aq0vQEScorcX"
      },
      "execution_count": null,
      "outputs": []
    },
    {
      "cell_type": "code",
      "source": [
        "from sklearn.model_selection import train_test_split\n",
        "\n",
        "x_train, x_test, y_train, y_test = train_test_split(x, y, \n",
        "                                                    test_size=0.33,\n",
        "                                                    random_state=0)\n",
        "\n",
        "from sklearn.preprocessing import StandardScaler\n",
        "\n",
        "sc = StandardScaler()\n",
        "\n",
        "X_train = sc.fit_transform(x_train)\n",
        "# only transform do not learn (no fit!)\n",
        "X_test = sc.transform(x_test)\n",
        "\n",
        "\n",
        "from sklearn.linear_model import LogisticRegression\n",
        "\n",
        "logr = LogisticRegression(random_state=0)\n",
        "logr.fit(X_train, y_train)\n",
        "\n",
        "y_prediction = logr.predict(X_test)\n",
        "print(\"Prediction values:\")\n",
        "print(y_prediction)\n",
        "print(\"Real values:\")\n",
        "print(y_test)"
      ],
      "metadata": {
        "colab": {
          "base_uri": "https://localhost:8080/"
        },
        "id": "gOFFvdbPpV0V",
        "outputId": "8233ed81-15a5-4377-802d-cd898085fc7a"
      },
      "execution_count": null,
      "outputs": [
        {
          "output_type": "stream",
          "name": "stdout",
          "text": [
            "Prediction values:\n",
            "['e' 'e' 'e' 'e' 'k' 'e' 'e' 'e']\n",
            "Real values:\n",
            "[['k']\n",
            " ['k']\n",
            " ['k']\n",
            " ['k']\n",
            " ['e']\n",
            " ['k']\n",
            " ['k']\n",
            " ['k']]\n"
          ]
        },
        {
          "output_type": "stream",
          "name": "stderr",
          "text": [
            "/usr/local/lib/python3.7/dist-packages/sklearn/utils/validation.py:993: DataConversionWarning: A column-vector y was passed when a 1d array was expected. Please change the shape of y to (n_samples, ), for example using ravel().\n",
            "  y = column_or_1d(y, warn=True)\n"
          ]
        }
      ]
    },
    {
      "cell_type": "markdown",
      "source": [
        "# Confusion Matrix\n",
        "\n"
      ],
      "metadata": {
        "id": "Uz5pLgubsuyN"
      }
    },
    {
      "cell_type": "markdown",
      "source": [
        "A confusion matrix's diagon always gives true results. \n",
        "\n",
        "Sensitivity = t-pos/(t-pos + f-neg)\n",
        "True positive recognition rate\n",
        "\n",
        "Specificity = = t-neg/(t-neg + f-pos)\n",
        "True negative recognition rate\n",
        "\n",
        "Precision = = t-post/(t-pos + f-pos)\n",
        "\n",
        "Accuracy = (sensitivity X pos/(pos + neg)) + (specificity X neg/(pos + neg))"
      ],
      "metadata": {
        "id": "4J_p2H0t4rIH"
      }
    },
    {
      "cell_type": "code",
      "source": [
        "from sklearn.metrics import confusion_matrix\n",
        "cm = confusion_matrix(y_test, y_prediction)\n",
        "print(cm)\n",
        "\n",
        "# accuracy = 1/8 (8 examples, 1 true)\n",
        "# error rate = 1 - accuracy = 7/8 "
      ],
      "metadata": {
        "colab": {
          "base_uri": "https://localhost:8080/"
        },
        "id": "1O1K4GIl3Fwi",
        "outputId": "b9e8b358-855c-4cc2-8d78-b40cbcd79507"
      },
      "execution_count": null,
      "outputs": [
        {
          "output_type": "stream",
          "name": "stdout",
          "text": [
            "[[0 1]\n",
            " [7 0]]\n"
          ]
        }
      ]
    },
    {
      "cell_type": "markdown",
      "source": [
        "# KNN Algorithm (K Nearest Neigboors)"
      ],
      "metadata": {
        "id": "lxxMHml34V4o"
      }
    },
    {
      "cell_type": "markdown",
      "source": [
        "[Bilgisayar Kavramları Explanation](https://bilgisayarkavramlari.com/2008/11/17/knn-k-nearest-neighborhood-en-yakin-k-komsu/)\n",
        "\n",
        "[KNN Sklearn Documentation](https://scikit-learn.org/stable/modules/neighbors.html)\n",
        "\n",
        "Uses euclidien distance (like measuring with ruler) for distance. This can create problems because, maybe one of variable is changing more than other for this, there is modified KNN algorithms.\n",
        "\n",
        "There are different distance metrics like manhattan, minkowski, mahalanobis...\n",
        "\n",
        "Closer neigboor is important.\n",
        "\n",
        "RESEARCH: Lazy and eager learning"
      ],
      "metadata": {
        "id": "p3fYfhfj5cKP"
      }
    },
    {
      "cell_type": "code",
      "source": [
        "from sklearn.neighbors import KNeighborsClassifier\n",
        "knn = KNeighborsClassifier(n_neighbors=1, metric='minkowski')\n",
        "knn.fit(X_train, y_train)\n",
        "\n",
        "y_prediction = knn.predict(X_test)\n",
        "print(y_prediction)\n",
        "print(y_test)\n",
        "\n",
        "cm = confusion_matrix(y_test, y_prediction)\n",
        "print(cm)\n",
        "\n",
        "# for 5 neigbors and 1 neigbor confusion matrix is:\n",
        "#   5: [0 1]                   1: [1 0]\n",
        "#      [6 1]                      [1 6]\n",
        "# we can see that 1 neigbor is more succesfull than 5 neigbor,\n",
        "# not always more neigbor is better!"
      ],
      "metadata": {
        "colab": {
          "base_uri": "https://localhost:8080/"
        },
        "id": "J6BuUIqZ8eQh",
        "outputId": "eaddb669-a827-4a7e-ea25-d91da8d155d6"
      },
      "execution_count": null,
      "outputs": [
        {
          "output_type": "stream",
          "name": "stdout",
          "text": [
            "['k' 'k' 'e' 'k' 'e' 'k' 'k' 'k']\n",
            "[['k']\n",
            " ['k']\n",
            " ['k']\n",
            " ['k']\n",
            " ['e']\n",
            " ['k']\n",
            " ['k']\n",
            " ['k']]\n",
            "[[1 0]\n",
            " [1 6]]\n"
          ]
        },
        {
          "output_type": "stream",
          "name": "stderr",
          "text": [
            "/usr/local/lib/python3.7/dist-packages/sklearn/neighbors/_classification.py:198: DataConversionWarning: A column-vector y was passed when a 1d array was expected. Please change the shape of y to (n_samples,), for example using ravel().\n",
            "  return self._fit(X, y)\n"
          ]
        }
      ]
    },
    {
      "cell_type": "markdown",
      "source": [
        "# Support Vector Machine\n",
        "\n",
        "[SVC Documentation](https://scikit-learn.org/stable/modules/generated/sklearn.svm.SVC.html)"
      ],
      "metadata": {
        "id": "qtZzKvKaCKyU"
      }
    },
    {
      "cell_type": "code",
      "source": [
        "from sklearn.svm import SVC\n",
        "svc = SVC(kernel='linear')\n",
        "svc.fit(X_train, y_train)\n",
        "\n",
        "y_prediction = svc.predict(X_test)\n",
        "print(y_prediction)\n",
        "\n",
        "cm = confusion_matrix(y_test, y_prediction)\n",
        "print(cm)"
      ],
      "metadata": {
        "colab": {
          "base_uri": "https://localhost:8080/"
        },
        "id": "LlhGOOKJDLRd",
        "outputId": "cde91f26-9dc9-4749-dd75-73b50eecefff"
      },
      "execution_count": 34,
      "outputs": [
        {
          "output_type": "stream",
          "name": "stdout",
          "text": [
            "['e' 'e' 'e' 'e' 'k' 'e' 'e' 'k']\n",
            "[[0 1]\n",
            " [6 1]]\n"
          ]
        },
        {
          "output_type": "stream",
          "name": "stderr",
          "text": [
            "/usr/local/lib/python3.7/dist-packages/sklearn/utils/validation.py:993: DataConversionWarning: A column-vector y was passed when a 1d array was expected. Please change the shape of y to (n_samples, ), for example using ravel().\n",
            "  y = column_or_1d(y, warn=True)\n"
          ]
        }
      ]
    }
  ]
}