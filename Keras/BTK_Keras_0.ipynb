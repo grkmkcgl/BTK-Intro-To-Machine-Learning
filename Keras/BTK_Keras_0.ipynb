{
  "nbformat": 4,
  "nbformat_minor": 0,
  "metadata": {
    "colab": {
      "provenance": [],
      "collapsed_sections": [
        "-UYcJcMxnHhI",
        "yTvCYhZ2riN8",
        "FkhnSeniJa9U"
      ]
    },
    "kernelspec": {
      "name": "python3",
      "display_name": "Python 3"
    },
    "language_info": {
      "name": "python"
    }
  },
  "cells": [
    {
      "cell_type": "markdown",
      "source": [
        "# Setups"
      ],
      "metadata": {
        "id": "-UYcJcMxnHhI"
      }
    },
    {
      "cell_type": "markdown",
      "source": [
        "## Accessing drive"
      ],
      "metadata": {
        "id": "XZLTTDRbn-MT"
      }
    },
    {
      "cell_type": "code",
      "execution_count": null,
      "metadata": {
        "colab": {
          "base_uri": "https://localhost:8080/"
        },
        "id": "aWYryd4lnCqi",
        "outputId": "2d61e587-bbe7-4d39-f167-e90924e76951"
      },
      "outputs": [
        {
          "output_type": "stream",
          "name": "stdout",
          "text": [
            "Mounted at /gdrive\n",
            "/gdrive\n"
          ]
        }
      ],
      "source": [
        "from google.colab import drive\n",
        "drive.mount('/gdrive')\n",
        "%cd /gdrive"
      ]
    },
    {
      "cell_type": "code",
      "source": [
        "# list what is inside\n",
        "!ls \"/gdrive/My Drive/Colab Notebooks\"\n",
        "\n",
        "# or can use:\n",
        "# import os\n",
        "# os.chdir(\"/gdrive/My Drive/Colab Notebooks\")\n",
        "# !ls"
      ],
      "metadata": {
        "colab": {
          "base_uri": "https://localhost:8080/"
        },
        "id": "KW13VX4qnTk6",
        "outputId": "e6467304-7574-4118-c041-e82eaebb60c8"
      },
      "execution_count": null,
      "outputs": [
        {
          "output_type": "stream",
          "name": "stdout",
          "text": [
            " BTK_Keras_0.ipynb\t\t  'ML BTK-2.ipynb'\n",
            " classes.ipynb\t\t\t  'ML BTK-3.ipynb'\n",
            " Create_Neural_Network.ipynb\t  'ML BTK-4.ipynb'\n",
            " Creating_CNN.ipynb\t\t  'ML BTK-5.ipynb'\n",
            " Creating_RNN.ipynb\t\t  'ML BTK-6.ipynb'\n",
            " data_cleaning.ipynb\t\t  'ML BTK-7.ipynb'\n",
            " ele_bele.ipynb\t\t\t  'ML BTK-8.ipynb'\n",
            " GlobalAI_Project_CNN.ipynb\t  'ML BTK-9.ipynb'\n",
            " GlobalAI_Project_DataPrep.ipynb   ML_BTK_Homework_2.ipynb\n",
            " lists.ipynb\t\t\t   ML_BTK_Homework_3.ipynb\n",
            " matplot.ipynb\t\t\t  'ML BTK Homework.ipynb'\n",
            "'ML BTK-1.ipynb'\t\t   Pandas.ipynb\n"
          ]
        }
      ]
    },
    {
      "cell_type": "markdown",
      "source": [
        "## Viewing GPU/CPU/Memory"
      ],
      "metadata": {
        "id": "61rLJoLGn7jj"
      }
    },
    {
      "cell_type": "code",
      "source": [
        "# CPU info\n",
        "!cat /proc/cpuinfo\n",
        "\n",
        "# Memory info\n",
        "!cat /proc/meminfo"
      ],
      "metadata": {
        "id": "le1VXT1xooRN"
      },
      "execution_count": null,
      "outputs": []
    },
    {
      "cell_type": "code",
      "source": [
        "# GPU info\n",
        "import tensorflow as tf\n",
        "tf.test.gpu_device_name()\n",
        "from tensorflow.python.client import device_lib\n",
        "device_lib.list_local_devices()"
      ],
      "metadata": {
        "colab": {
          "base_uri": "https://localhost:8080/"
        },
        "id": "X_bpxzNzoGLu",
        "outputId": "93b3edcb-ed48-4539-fda3-8539a1daefa7"
      },
      "execution_count": null,
      "outputs": [
        {
          "output_type": "execute_result",
          "data": {
            "text/plain": [
              "[name: \"/device:CPU:0\"\n",
              " device_type: \"CPU\"\n",
              " memory_limit: 268435456\n",
              " locality {\n",
              " }\n",
              " incarnation: 8697957334095266507\n",
              " xla_global_id: -1]"
            ]
          },
          "metadata": {},
          "execution_count": 5
        }
      ]
    },
    {
      "cell_type": "code",
      "source": [
        "# View hub\n",
        "import tensorflow_hub as hub"
      ],
      "metadata": {
        "id": "15cdMwmio0Hl"
      },
      "execution_count": null,
      "outputs": []
    },
    {
      "cell_type": "markdown",
      "source": [
        "One line if statement example:\n",
        "\n",
        "`print(\"available\" if tf.test.is_gpu_available() else \"Not available\")`"
      ],
      "metadata": {
        "id": "KIA4LnXtplMZ"
      }
    },
    {
      "cell_type": "markdown",
      "source": [
        "## Restart collab"
      ],
      "metadata": {
        "id": "hgvPaZXfq3d0"
      }
    },
    {
      "cell_type": "code",
      "source": [
        "!kill -9 -1"
      ],
      "metadata": {
        "id": "QmvZce9Aq5nl"
      },
      "execution_count": null,
      "outputs": []
    },
    {
      "cell_type": "markdown",
      "source": [
        "## Use .py files in collab"
      ],
      "metadata": {
        "id": "nHK9mLv6qomX"
      }
    },
    {
      "cell_type": "markdown",
      "source": [
        "go to where py file is in drive using:\n",
        "\n",
        "```\n",
        "import os\n",
        "os.chdir(\"/gdrive/My Drive/Colab Notebooks\")\n",
        "```\n",
        "\n",
        "then\n",
        "\n",
        "`!python3 py_file_in_colab.py `"
      ],
      "metadata": {
        "id": "hGCt7iPKqsON"
      }
    },
    {
      "cell_type": "markdown",
      "source": [
        "## CLEAN MEMORY IN PYTHON\n",
        "\n",
        "Garbage collector:\n",
        "```\n",
        "import gc\n",
        "\n",
        "gc.collect()\n",
        "```\n",
        "\n",
        "Clean all variables:\n",
        "```\n",
        "%reset -f\n",
        "```\n",
        "\n",
        "\n"
      ],
      "metadata": {
        "id": "9xeFTHmCNCmK"
      }
    },
    {
      "cell_type": "markdown",
      "source": [
        "# MATH\n",
        "\n",
        "In BTK Keras 3.6 well explained in Turkish."
      ],
      "metadata": {
        "id": "yTvCYhZ2riN8"
      }
    },
    {
      "cell_type": "markdown",
      "source": [
        "## What is a tensor?"
      ],
      "metadata": {
        "id": "e4mY8pb_tvLE"
      }
    },
    {
      "cell_type": "markdown",
      "source": [
        "Tensor is multidimensional type of matrixes.\n",
        "\n",
        "**Matrix has rows and columns.**\n",
        "\n",
        "**Tensor has rows, columns and channels.**\n",
        "\n",
        "\n"
      ],
      "metadata": {
        "id": "PJLBgzKPrkqs"
      }
    },
    {
      "cell_type": "code",
      "source": [
        "import numpy as np\n",
        "\n",
        "x = np.array(7)\n",
        "\n",
        "# observe dimensions:\n",
        "print(x.ndim)  # will give 0 since it's a SCALAR number\n",
        "\n",
        "x = np.array([7, 14, 21])\n",
        "print(x.ndim)  # will give 1\n",
        "\n",
        "x = np.array([[7, 14, 21],\n",
        "             [7, 14, 21],\n",
        "             [7, 14, 21]])\n",
        "print(x.ndim)  # it will be a MATRIX\n",
        "\n",
        "x = np.array([[[7, 14, 21],[7, 14, 21]],\n",
        "             [[7, 14, 21],[7, 14, 21]],\n",
        "             [[7, 14, 21],[7, 14, 21]]])\n",
        "print(x.ndim)  # it will be a TENSOR"
      ],
      "metadata": {
        "colab": {
          "base_uri": "https://localhost:8080/"
        },
        "id": "KGG1brKnsGV8",
        "outputId": "3effc2ba-1d8a-47f7-ac7e-c3c660a86226"
      },
      "execution_count": null,
      "outputs": [
        {
          "output_type": "stream",
          "name": "stdout",
          "text": [
            "0\n",
            "1\n",
            "2\n",
            "3\n"
          ]
        }
      ]
    },
    {
      "cell_type": "markdown",
      "source": [
        "## Example from image data"
      ],
      "metadata": {
        "id": "AT3fmskGtqDE"
      }
    },
    {
      "cell_type": "code",
      "source": [
        "from keras.datasets import mnist\n",
        "(train_images, train_labels), (test_images, test_labels) = mnist.load_data()"
      ],
      "metadata": {
        "colab": {
          "base_uri": "https://localhost:8080/"
        },
        "id": "SSSAIBavttDb",
        "outputId": "d5c20c8f-7b31-4fef-87c4-bd40b4a6b8ad"
      },
      "execution_count": null,
      "outputs": [
        {
          "output_type": "stream",
          "name": "stdout",
          "text": [
            "Downloading data from https://storage.googleapis.com/tensorflow/tf-keras-datasets/mnist.npz\n",
            "11490434/11490434 [==============================] - 0s 0us/step\n"
          ]
        }
      ]
    },
    {
      "cell_type": "code",
      "source": [
        "print(train_images.ndim)\n",
        "print(train_images.shape)\n",
        "print(train_images.dtype)"
      ],
      "metadata": {
        "colab": {
          "base_uri": "https://localhost:8080/"
        },
        "id": "DeOiRBN2t8fs",
        "outputId": "eba97bfb-569c-4792-f8fe-a35c42f1d6bc"
      },
      "execution_count": null,
      "outputs": [
        {
          "output_type": "stream",
          "name": "stdout",
          "text": [
            "3\n",
            "(60000, 28, 28)\n",
            "uint8\n"
          ]
        }
      ]
    },
    {
      "cell_type": "code",
      "source": [
        "digit = train_images[9]\n",
        "import matplotlib.pyplot as plt\n",
        "plt.imshow(digit, cmap=plt.cm.binary)\n",
        "plt.show()\n",
        "plt.close()"
      ],
      "metadata": {
        "colab": {
          "base_uri": "https://localhost:8080/",
          "height": 265
        },
        "id": "hFSqD33ZuAFL",
        "outputId": "34204916-246d-40bc-a4cc-97f2ab358932"
      },
      "execution_count": null,
      "outputs": [
        {
          "output_type": "display_data",
          "data": {
            "text/plain": [
              "<Figure size 432x288 with 1 Axes>"
            ],
            "image/png": "[encoded data removed]"
          },
          "metadata": {
            "needs_background": "light"
          }
        }
      ]
    },
    {
      "cell_type": "code",
      "source": [
        "my_set = train_images[7:77]\n",
        "print(my_set.shape)\n",
        "\n",
        "# take cropped:\n",
        "my_set = train_images[7:77, 0:14, 0:14]\n",
        "print(my_set.shape)"
      ],
      "metadata": {
        "colab": {
          "base_uri": "https://localhost:8080/"
        },
        "id": "KEsDfMpGupjX",
        "outputId": "89d6d762-c9a7-467b-c9fd-f0a69ef33cff"
      },
      "execution_count": null,
      "outputs": [
        {
          "output_type": "stream",
          "name": "stdout",
          "text": [
            "(70, 28, 28)\n",
            "(70, 14, 14)\n"
          ]
        }
      ]
    },
    {
      "cell_type": "markdown",
      "source": [
        "## Operations"
      ],
      "metadata": {
        "id": "T7E6jubNvYty"
      }
    },
    {
      "cell_type": "markdown",
      "source": [
        "### By elementwise:"
      ],
      "metadata": {
        "id": "dTJprQasvdWZ"
      }
    },
    {
      "cell_type": "code",
      "source": [
        "def naive_add(x, y):\n",
        "  assert len(x.shape) == 2  # x and y are 2 dimensional numpy tensors\n",
        "  assert x.shape == y.shape\n",
        "\n",
        "  x = x.copy()\n",
        "\n",
        "  for i in range(x.shape[0]):\n",
        "    for j in range(x.shape[1]):\n",
        "      x[i, j] += y[i, j]\n",
        "  return x"
      ],
      "metadata": {
        "id": "QR2XkM4KvcyK"
      },
      "execution_count": null,
      "outputs": []
    },
    {
      "cell_type": "code",
      "source": [
        "x = np.array([[7, 14, 21],\n",
        "             [7, 14, 21],\n",
        "             [7, 14, 21]])\n",
        "\n",
        "y = np.array([[2, 2, 2],\n",
        "             [2, 2, 2],\n",
        "             [2, 2, 2]])\n",
        "\n",
        "z = naive_add(x, y)\n",
        "print(z)"
      ],
      "metadata": {
        "colab": {
          "base_uri": "https://localhost:8080/"
        },
        "id": "4I4VLX-1wCLa",
        "outputId": "9a6768ed-9236-48ce-c11b-026f0bbcf4e6"
      },
      "execution_count": null,
      "outputs": [
        {
          "output_type": "stream",
          "name": "stdout",
          "text": [
            "[[ 9 16 23]\n",
            " [ 9 16 23]\n",
            " [ 9 16 23]]\n"
          ]
        }
      ]
    },
    {
      "cell_type": "code",
      "source": [
        "import numpy as np\n",
        "z = x+y\n",
        "z"
      ],
      "metadata": {
        "colab": {
          "base_uri": "https://localhost:8080/"
        },
        "id": "12yXAeALwX87",
        "outputId": "9456e435-9995-4dfc-8d63-7f970cec4fc1"
      },
      "execution_count": null,
      "outputs": [
        {
          "output_type": "execute_result",
          "data": {
            "text/plain": [
              "array([[ 9, 16, 23],\n",
              "       [ 9, 16, 23],\n",
              "       [ 9, 16, 23]])"
            ]
          },
          "metadata": {},
          "execution_count": 29
        }
      ]
    },
    {
      "cell_type": "code",
      "source": [
        "def naive_relu(x):\n",
        "  assert len(x.shape) == 2\n",
        "\n",
        "  x = x.copy()\n",
        "\n",
        "  for i in range(x.shape[0]):\n",
        "    for j in range(x.shape[1]):\n",
        "      x[i, j] = max(x[i, j], 0)\n",
        "  return x"
      ],
      "metadata": {
        "id": "u2nDZ1g4weGy"
      },
      "execution_count": null,
      "outputs": []
    },
    {
      "cell_type": "code",
      "source": [
        "y = np.array([[2, -2, 2],\n",
        "             [2, -2, 2],\n",
        "             [2, -2, 2]])\n",
        "\n",
        "z = naive_relu(y)\n",
        "print(z)"
      ],
      "metadata": {
        "colab": {
          "base_uri": "https://localhost:8080/"
        },
        "id": "L8_Wd4lSwqBD",
        "outputId": "14154329-cffa-4667-a80b-1c9520a3c05d"
      },
      "execution_count": null,
      "outputs": [
        {
          "output_type": "stream",
          "name": "stdout",
          "text": [
            "[[2 0 2]\n",
            " [2 0 2]\n",
            " [2 0 2]]\n"
          ]
        }
      ]
    },
    {
      "cell_type": "code",
      "source": [
        "z = np.maximum(y, 0)\n",
        "print(z)"
      ],
      "metadata": {
        "colab": {
          "base_uri": "https://localhost:8080/"
        },
        "id": "oCNWyBVyw99h",
        "outputId": "548a168a-2006-42d5-ba19-6a6ec919ca70"
      },
      "execution_count": null,
      "outputs": [
        {
          "output_type": "stream",
          "name": "stdout",
          "text": [
            "[[2 0 2]\n",
            " [2 0 2]\n",
            " [2 0 2]]\n"
          ]
        }
      ]
    },
    {
      "cell_type": "markdown",
      "source": [
        "### Spreading Opeartion (yayma operasyonu):\n",
        "\n",
        "spread => matrix * vector"
      ],
      "metadata": {
        "id": "T4_7LAfBxOtS"
      }
    },
    {
      "cell_type": "code",
      "source": [
        "def naive_add_matrix_and_vector(x, y):\n",
        "  assert len(x.shape) == 2\n",
        "  assert len(y.shape) == 1\n",
        "  assert x.shape[1] == y.shape[0]\n",
        "\n",
        "  x = x.copy()\n",
        "\n",
        "  for i in range(x.shape[0]):\n",
        "    for j in range(x.shape[1]):\n",
        "      x[i, j] += y[j]\n",
        "  return x"
      ],
      "metadata": {
        "id": "NX1agZM9xV56"
      },
      "execution_count": null,
      "outputs": []
    },
    {
      "cell_type": "code",
      "source": [
        "x = np.array([[7,3,8], [1, 2, 3], [5, 5, 5]])\n",
        "print(x.ndim)\n",
        "y = np.array([1, 2, 3])\n",
        "\n",
        "naive_add_matrix_and_vector(x, y)"
      ],
      "metadata": {
        "colab": {
          "base_uri": "https://localhost:8080/"
        },
        "id": "EumOE89Hxzwx",
        "outputId": "f1d96d02-30c5-4c00-ee2c-02221db11314"
      },
      "execution_count": null,
      "outputs": [
        {
          "output_type": "stream",
          "name": "stdout",
          "text": [
            "2\n"
          ]
        },
        {
          "output_type": "execute_result",
          "data": {
            "text/plain": [
              "array([[ 8,  5, 11],\n",
              "       [ 2,  4,  6],\n",
              "       [ 6,  7,  8]])"
            ]
          },
          "metadata": {},
          "execution_count": 47
        }
      ]
    },
    {
      "cell_type": "code",
      "source": [
        "import numpy as np\n",
        "x = np.random.random((64, 3, 32, 10))\n",
        "y = np.random.random((32, 10))\n",
        "\n",
        "z = np.maximum(x, y)\n",
        "print(z.shape)"
      ],
      "metadata": {
        "colab": {
          "base_uri": "https://localhost:8080/"
        },
        "id": "AoCIFvOr0qOh",
        "outputId": "b838771d-ed23-41ed-993f-a27df0d0b049"
      },
      "execution_count": null,
      "outputs": [
        {
          "output_type": "stream",
          "name": "stdout",
          "text": [
            "(64, 3, 32, 10)\n"
          ]
        }
      ]
    },
    {
      "cell_type": "markdown",
      "source": [
        "### Dot Product"
      ],
      "metadata": {
        "id": "7eEhRrmH8k8D"
      }
    },
    {
      "cell_type": "code",
      "source": [
        "x = np.array([[1,2],\n",
        "              [1,2]])\n",
        "\n",
        "y = np.array([[1,2],\n",
        "              [1,2]])\n",
        "\n",
        "z = np.dot(x, y)\n",
        "z"
      ],
      "metadata": {
        "colab": {
          "base_uri": "https://localhost:8080/"
        },
        "id": "ggKMLJTT8m06",
        "outputId": "8108a19b-956c-4fa3-a970-4ef2e532fd5d"
      },
      "execution_count": null,
      "outputs": [
        {
          "output_type": "execute_result",
          "data": {
            "text/plain": [
              "array([[3, 6],\n",
              "       [3, 6]])"
            ]
          },
          "metadata": {},
          "execution_count": 51
        }
      ]
    },
    {
      "cell_type": "markdown",
      "source": [
        "### Channel/Shape Changing"
      ],
      "metadata": {
        "id": "IvdwJ6Uz9JLl"
      }
    },
    {
      "cell_type": "code",
      "source": [
        "x = np.array([[0., 1.],\n",
        "              [2., 3.],\n",
        "              [4., 5.]])\n",
        "x.shape"
      ],
      "metadata": {
        "colab": {
          "base_uri": "https://localhost:8080/"
        },
        "id": "l93hfFHb9Sjs",
        "outputId": "15b7e761-35a3-44d1-a4f6-975a8b27681b"
      },
      "execution_count": null,
      "outputs": [
        {
          "output_type": "execute_result",
          "data": {
            "text/plain": [
              "(3, 2)"
            ]
          },
          "metadata": {},
          "execution_count": 52
        }
      ]
    },
    {
      "cell_type": "code",
      "source": [
        "x = x.reshape((1,-1))\n",
        "x"
      ],
      "metadata": {
        "colab": {
          "base_uri": "https://localhost:8080/"
        },
        "id": "53OmV1I19i-T",
        "outputId": "3fff15d5-b07e-439f-b738-d5082108cd9e"
      },
      "execution_count": null,
      "outputs": [
        {
          "output_type": "execute_result",
          "data": {
            "text/plain": [
              "array([[0., 1., 2., 3., 4., 5.]])"
            ]
          },
          "metadata": {},
          "execution_count": 59
        }
      ]
    },
    {
      "cell_type": "code",
      "source": [
        "x = np.zeros((100,10))\n",
        "x = np.transpose(x)\n",
        "\n",
        "print(x.shape)"
      ],
      "metadata": {
        "colab": {
          "base_uri": "https://localhost:8080/"
        },
        "id": "IxkHWVXU_rMR",
        "outputId": "e437bda3-4600-4675-97b6-623c540f4a93"
      },
      "execution_count": null,
      "outputs": [
        {
          "output_type": "stream",
          "name": "stdout",
          "text": [
            "(10, 100)\n"
          ]
        }
      ]
    },
    {
      "cell_type": "markdown",
      "source": [],
      "metadata": {
        "id": "_09qt5jPHv6d"
      }
    },
    {
      "cell_type": "markdown",
      "source": [
        "# Mnist Dataset Easy Example"
      ],
      "metadata": {
        "id": "FkhnSeniJa9U"
      }
    },
    {
      "cell_type": "markdown",
      "source": [
        "## Download dataset"
      ],
      "metadata": {
        "id": "TOwrGG-RN1VU"
      }
    },
    {
      "cell_type": "code",
      "source": [
        "from keras.datasets import mnist\n",
        "(train_images, train_labels), (test_images, test_labels) = mnist.load_data()"
      ],
      "metadata": {
        "id": "KwScHv3HLIaM"
      },
      "execution_count": null,
      "outputs": []
    },
    {
      "cell_type": "markdown",
      "source": [
        "## Building Architecture For Minst"
      ],
      "metadata": {
        "id": "gQBY9zgEMNZS"
      }
    },
    {
      "cell_type": "code",
      "source": [
        "from keras import models\n",
        "from keras import layers"
      ],
      "metadata": {
        "id": "x0-xU-S2MKHR"
      },
      "execution_count": null,
      "outputs": []
    },
    {
      "cell_type": "code",
      "source": [
        "network = models.Sequential()\n",
        "network.add(layers.Dense(512, activation=\"relu\", input_shape=(28*28,)))\n",
        "network.add(layers.Dense(10, activation=\"softmax\"))\n",
        "\n",
        "network.compile(optimizer=\"rmsprop\", \n",
        "                loss=\"categorical_crossentropy\",\n",
        "                metrics=['accuracy'])\n",
        "\n",
        "network.summary()"
      ],
      "metadata": {
        "colab": {
          "base_uri": "https://localhost:8080/"
        },
        "id": "JpGytvWwMTIS",
        "outputId": "55ce6c7b-e6b9-4532-9fa9-480c79d08f30"
      },
      "execution_count": null,
      "outputs": [
        {
          "output_type": "stream",
          "name": "stdout",
          "text": [
            "Model: \"sequential_5\"\n",
            "_________________________________________________________________\n",
            " Layer (type)                Output Shape              Param #   \n",
            "=================================================================\n",
            " dense_7 (Dense)             (None, 512)               401920    \n",
            "                                                                 \n",
            " dense_8 (Dense)             (None, 10)                5130      \n",
            "                                                                 \n",
            "=================================================================\n",
            "Total params: 407,050\n",
            "Trainable params: 407,050\n",
            "Non-trainable params: 0\n",
            "_________________________________________________________________\n"
          ]
        }
      ]
    },
    {
      "cell_type": "markdown",
      "source": [
        "## Preparing inputs and labels"
      ],
      "metadata": {
        "id": "6wjY4GQ8N34L"
      }
    },
    {
      "cell_type": "code",
      "source": [
        "train_images = train_images.reshape((60000, 28*28))\n",
        "# image normalization:\n",
        "train_images = train_images.astype('float32') / 255\n",
        "\n",
        "test_images = test_images.reshape((10000, 28*28))\n",
        "test_images = test_images.astype('float32') / 255"
      ],
      "metadata": {
        "id": "UNz2YHZ_N6Ur"
      },
      "execution_count": null,
      "outputs": []
    },
    {
      "cell_type": "code",
      "source": [
        "from keras.utils import to_categorical\n",
        "\n",
        "train_labels = to_categorical(train_labels)\n",
        "test_labels = to_categorical(test_labels)"
      ],
      "metadata": {
        "id": "MBQWttg3ObDZ"
      },
      "execution_count": null,
      "outputs": []
    },
    {
      "cell_type": "markdown",
      "source": [
        "## Training model"
      ],
      "metadata": {
        "id": "m6dvf00aPkkp"
      }
    },
    {
      "cell_type": "code",
      "source": [
        "network.fit(train_images, train_labels, epochs=10, batch_size=128)"
      ],
      "metadata": {
        "colab": {
          "base_uri": "https://localhost:8080/"
        },
        "id": "yJrvcmSRPl7o",
        "outputId": "ea0a2961-f403-416e-b154-609f99d046a7"
      },
      "execution_count": null,
      "outputs": [
        {
          "output_type": "stream",
          "name": "stdout",
          "text": [
            "Epoch 1/10\n",
            "469/469 [==============================] - 5s 8ms/step - loss: 0.2539 - accuracy: 0.9263\n",
            "Epoch 2/10\n",
            "469/469 [==============================] - 4s 8ms/step - loss: 0.1014 - accuracy: 0.9698\n",
            "Epoch 3/10\n",
            "469/469 [==============================] - 4s 8ms/step - loss: 0.0677 - accuracy: 0.9798\n",
            "Epoch 4/10\n",
            "469/469 [==============================] - 4s 8ms/step - loss: 0.0499 - accuracy: 0.9850\n",
            "Epoch 5/10\n",
            "469/469 [==============================] - 4s 8ms/step - loss: 0.0375 - accuracy: 0.9889\n",
            "Epoch 6/10\n",
            "469/469 [==============================] - 4s 8ms/step - loss: 0.0289 - accuracy: 0.9916\n",
            "Epoch 7/10\n",
            "469/469 [==============================] - 4s 8ms/step - loss: 0.0219 - accuracy: 0.9938\n",
            "Epoch 8/10\n",
            "469/469 [==============================] - 4s 8ms/step - loss: 0.0171 - accuracy: 0.9951\n",
            "Epoch 9/10\n",
            "469/469 [==============================] - 4s 8ms/step - loss: 0.0130 - accuracy: 0.9961\n",
            "Epoch 10/10\n",
            "469/469 [==============================] - 4s 8ms/step - loss: 0.0102 - accuracy: 0.9972\n"
          ]
        },
        {
          "output_type": "execute_result",
          "data": {
            "text/plain": [
              "<keras.callbacks.History at 0x7f4b4e1c8ed0>"
            ]
          },
          "metadata": {},
          "execution_count": 80
        }
      ]
    },
    {
      "cell_type": "code",
      "source": [
        "test_loss, test_acc = network.evaluate(test_images, test_labels)\n",
        "print(\"test loss: \", test_loss)\n",
        "print(\"test accuracy: \", test_acc)"
      ],
      "metadata": {
        "colab": {
          "base_uri": "https://localhost:8080/"
        },
        "id": "lG6XYnIQP5Uy",
        "outputId": "597236a2-2a1e-4fd6-caf2-4aca462cd639"
      },
      "execution_count": null,
      "outputs": [
        {
          "output_type": "stream",
          "name": "stdout",
          "text": [
            "313/313 [==============================] - 1s 3ms/step - loss: 0.0710 - accuracy: 0.9822\n",
            "test loss:  0.07103368639945984\n",
            "test accuracy:  0.982200026512146\n"
          ]
        }
      ]
    },
    {
      "cell_type": "code",
      "source": [],
      "metadata": {
        "colab": {
          "base_uri": "https://localhost:8080/"
        },
        "id": "rzOKV481Ti8v",
        "outputId": "1999da80-4ca9-45b0-b26e-f2dee9f36d25"
      },
      "execution_count": null,
      "outputs": [
        {
          "name": "stdout",
          "output_type": "stream",
          "text": [
            "Once deleted, variables cannot be recovered. Proceed (y/[n])? y\n"
          ]
        }
      ]
    },
    {
      "cell_type": "markdown",
      "source": [
        "# Layers/Models\n",
        "\n",
        "Note: Tensorflow playground."
      ],
      "metadata": {
        "id": "ga2QtaB9b1xq"
      }
    },
    {
      "cell_type": "markdown",
      "source": [
        "## Layer"
      ],
      "metadata": {
        "id": "QXkWXUm7cTQi"
      }
    },
    {
      "cell_type": "code",
      "source": [
        "from keras import layers\n",
        "layer = layers.Dense(32, input_shape=(784,))"
      ],
      "metadata": {
        "id": "UFrkOctFcKMJ"
      },
      "execution_count": null,
      "outputs": []
    },
    {
      "cell_type": "markdown",
      "source": [
        "## Model"
      ],
      "metadata": {
        "id": "7pqf--jxcWR5"
      }
    },
    {
      "cell_type": "code",
      "source": [
        "from keras import models\n",
        "model = models.Sequential()\n",
        "model.add(layers.Dense(32, input_shape=(784,)))\n",
        "model.add(layers.Dense(32))\n",
        "\n",
        "model.summary()"
      ],
      "metadata": {
        "id": "gp_wgGIScbPq"
      },
      "execution_count": null,
      "outputs": []
    },
    {
      "cell_type": "markdown",
      "source": [
        "# Activation Functions\n",
        "\n",
        "Drawing activation functions using matplotlib."
      ],
      "metadata": {
        "id": "-zvQobLJgUL3"
      }
    },
    {
      "cell_type": "code",
      "source": [
        "import math\n",
        "import matplotlib.pyplot as plt\n",
        "import numpy as np\n",
        "\n",
        "# Sigmoid\n",
        "def sigmoid(x):\n",
        "  a = []\n",
        "  for i in x:\n",
        "    a.append(1/(1+math.exp(-i)))\n",
        "  return a\n",
        "\n",
        "# Hyperbolic tangent\n",
        "def tanh(x, derivative=False):\n",
        "  if (derivative==True):\n",
        "    return (1-(x**2))\n",
        "  return np.tanh(x)\n",
        "\n",
        "# ReLU\n",
        "def re(x):\n",
        "  b = []\n",
        "  for i in x:\n",
        "    if i<0:\n",
        "      b.append(0)\n",
        "    else:\n",
        "      b.append(i)\n",
        "  return b\n",
        "\n",
        "# Leaky ReLU\n",
        "def lr(x):\n",
        "  b = []\n",
        "  for i in x:\n",
        "    if i<0:\n",
        "      b.append(i/10)\n",
        "    else:\n",
        "      b.append(i)\n",
        "  return b\n",
        "\n",
        "# Swish\n",
        "# swish = sig*x\n",
        "\n",
        "\n",
        "# ranges for creating graphs\n",
        "x = np.arange(-3., 3., 0.1)\n",
        "sig = sigmoid(x)\n",
        "tanh = tanh(x)\n",
        "relu = re(x)\n",
        "leaky_relu = lr(x)\n",
        "swish = sig*x\n",
        "\n",
        "\n",
        "# Draw Graphs\n",
        "\n",
        "line_1, = plt.plot(x, sig, label=\"Sigmoid\")\n",
        "line_2, = plt.plot(x, tanh, label=\"Tanh\")\n",
        "line_3, = plt.plot(x, relu, label=\"ReLU\")\n",
        "line_4, = plt.plot(x, leaky_relu, label=\"Leaky_ReLU\")\n",
        "line_5, = plt.plot(x, swish, label=\"Swish\")\n",
        "\n",
        "plt.legend(handles=[line_1, line_2, line_3, line_4, line_5])\n",
        "plt.axhline(y=0, color='k')\n",
        "plt.axvline(x=0, color='k')\n",
        "plt.show()\n",
        "plt.close()"
      ],
      "metadata": {
        "colab": {
          "base_uri": "https://localhost:8080/",
          "height": 265
        },
        "id": "DvVFWHZbgXtO",
        "outputId": "cc5f368a-cb1c-4889-b422-6756a2f3219a"
      },
      "execution_count": 9,
      "outputs": [
        {
          "output_type": "display_data",
          "data": {
            "text/plain": [
              "<Figure size 432x288 with 1 Axes>"
            ],
            "image/png": "[encoded data removed]"
          },
          "metadata": {
            "needs_background": "light"
          }
        }
      ]
    }
  ]
}