{
  "nbformat": 4,
  "nbformat_minor": 0,
  "metadata": {
    "colab": {
      "provenance": [],
      "authorship_tag": "ABX9TyPJMzEjZEkFd3FBoCYpoCx+"
    },
    "kernelspec": {
      "name": "python3",
      "display_name": "Python 3"
    },
    "language_info": {
      "name": "python"
    }
  },
  "cells": [
    {
      "cell_type": "markdown",
      "source": [
        "Use maaslar_yeni.txt for data\n",
        "\n",
        "- find relevant and irrelevant independent variables. (p-value (backward elimination))\n",
        "\n",
        "- find 5 different regression for models: MLR, PR, SVR, DT, RR\n",
        "\n",
        "- evaluate successes of each model. (r2 or adjusted r2)\n",
        "\n",
        "---\n",
        "\n",
        "MLR: multiple linear regression\n",
        "\n",
        "PR:polynomial regression\n",
        "\n",
        "SVR: support vector regression\n",
        "\n",
        "DT: decision tree\n",
        "\n",
        "RR: random forest"
      ],
      "metadata": {
        "id": "cQsS5TfmxtNh"
      }
    },
    {
      "cell_type": "code",
      "execution_count": null,
      "metadata": {
        "id": "Uit7ADGLxnWE"
      },
      "outputs": [],
      "source": [
        "import io\n",
        "import pandas as pd\n",
        "import numpy as np\n",
        "import matplotlib.pyplot as plt\n",
        "from google.colab import files\n",
        "from sklearn.metrics import r2_score\n"
      ]
    },
    {
      "cell_type": "code",
      "source": [
        "uploaded = files.upload()"
      ],
      "metadata": {
        "colab": {
          "base_uri": "https://localhost:8080/",
          "height": 73
        },
        "id": "g44LF-_AyxlA",
        "outputId": "62aee928-08c1-4cf6-efad-490fa522ca5c"
      },
      "execution_count": null,
      "outputs": [
        {
          "output_type": "display_data",
          "data": {
            "text/plain": [
              "<IPython.core.display.HTML object>"
            ],
            "text/html": [
              "\n",
              "     <input type=\"file\" id=\"files-a0d95011-6772-4789-9310-1d9b434c43d9\" name=\"files[]\" multiple disabled\n",
              "        style=\"border:none\" />\n",
              "     <output id=\"result-a0d95011-6772-4789-9310-1d9b434c43d9\">\n",
              "      Upload widget is only available when the cell has been executed in the\n",
              "      current browser session. Please rerun this cell to enable.\n",
              "      </output>\n",
              "      <script>// Copyright 2017 Google LLC\n",
              "//\n",
              "// Licensed under the Apache License, Version 2.0 (the \"License\");\n",
              "// you may not use this file except in compliance with the License.\n",
              "// You may obtain a copy of the License at\n",
              "//\n",
              "//      http://www.apache.org/licenses/LICENSE-2.0\n",
              "//\n",
              "// Unless required by applicable law or agreed to in writing, software\n",
              "// distributed under the License is distributed on an \"AS IS\" BASIS,\n",
              "// WITHOUT WARRANTIES OR CONDITIONS OF ANY KIND, either express or implied.\n",
              "// See the License for the specific language governing permissions and\n",
              "// limitations under the License.\n",
              "\n",
              "/**\n",
              " * @fileoverview Helpers for google.colab Python module.\n",
              " */\n",
              "(function(scope) {\n",
              "function span(text, styleAttributes = {}) {\n",
              "  const element = document.createElement('span');\n",
              "  element.textContent = text;\n",
              "  for (const key of Object.keys(styleAttributes)) {\n",
              "    element.style[key] = styleAttributes[key];\n",
              "  }\n",
              "  return element;\n",
              "}\n",
              "\n",
              "// Max number of bytes which will be uploaded at a time.\n",
              "const MAX_PAYLOAD_SIZE = 100 * 1024;\n",
              "\n",
              "function _uploadFiles(inputId, outputId) {\n",
              "  const steps = uploadFilesStep(inputId, outputId);\n",
              "  const outputElement = document.getElementById(outputId);\n",
              "  // Cache steps on the outputElement to make it available for the next call\n",
              "  // to uploadFilesContinue from Python.\n",
              "  outputElement.steps = steps;\n",
              "\n",
              "  return _uploadFilesContinue(outputId);\n",
              "}\n",
              "\n",
              "// This is roughly an async generator (not supported in the browser yet),\n",
              "// where there are multiple asynchronous steps and the Python side is going\n",
              "// to poll for completion of each step.\n",
              "// This uses a Promise to block the python side on completion of each step,\n",
              "// then passes the result of the previous step as the input to the next step.\n",
              "function _uploadFilesContinue(outputId) {\n",
              "  const outputElement = document.getElementById(outputId);\n",
              "  const steps = outputElement.steps;\n",
              "\n",
              "  const next = steps.next(outputElement.lastPromiseValue);\n",
              "  return Promise.resolve(next.value.promise).then((value) => {\n",
              "    // Cache the last promise value to make it available to the next\n",
              "    // step of the generator.\n",
              "    outputElement.lastPromiseValue = value;\n",
              "    return next.value.response;\n",
              "  });\n",
              "}\n",
              "\n",
              "/**\n",
              " * Generator function which is called between each async step of the upload\n",
              " * process.\n",
              " * @param {string} inputId Element ID of the input file picker element.\n",
              " * @param {string} outputId Element ID of the output display.\n",
              " * @return {!Iterable<!Object>} Iterable of next steps.\n",
              " */\n",
              "function* uploadFilesStep(inputId, outputId) {\n",
              "  const inputElement = document.getElementById(inputId);\n",
              "  inputElement.disabled = false;\n",
              "\n",
              "  const outputElement = document.getElementById(outputId);\n",
              "  outputElement.innerHTML = '';\n",
              "\n",
              "  const pickedPromise = new Promise((resolve) => {\n",
              "    inputElement.addEventListener('change', (e) => {\n",
              "      resolve(e.target.files);\n",
              "    });\n",
              "  });\n",
              "\n",
              "  const cancel = document.createElement('button');\n",
              "  inputElement.parentElement.appendChild(cancel);\n",
              "  cancel.textContent = 'Cancel upload';\n",
              "  const cancelPromise = new Promise((resolve) => {\n",
              "    cancel.onclick = () => {\n",
              "      resolve(null);\n",
              "    };\n",
              "  });\n",
              "\n",
              "  // Wait for the user to pick the files.\n",
              "  const files = yield {\n",
              "    promise: Promise.race([pickedPromise, cancelPromise]),\n",
              "    response: {\n",
              "      action: 'starting',\n",
              "    }\n",
              "  };\n",
              "\n",
              "  cancel.remove();\n",
              "\n",
              "  // Disable the input element since further picks are not allowed.\n",
              "  inputElement.disabled = true;\n",
              "\n",
              "  if (!files) {\n",
              "    return {\n",
              "      response: {\n",
              "        action: 'complete',\n",
              "      }\n",
              "    };\n",
              "  }\n",
              "\n",
              "  for (const file of files) {\n",
              "    const li = document.createElement('li');\n",
              "    li.append(span(file.name, {fontWeight: 'bold'}));\n",
              "    li.append(span(\n",
              "        `(${file.type || 'n/a'}) - ${file.size} bytes, ` +\n",
              "        `last modified: ${\n",
              "            file.lastModifiedDate ? file.lastModifiedDate.toLocaleDateString() :\n",
              "                                    'n/a'} - `));\n",
              "    const percent = span('0% done');\n",
              "    li.appendChild(percent);\n",
              "\n",
              "    outputElement.appendChild(li);\n",
              "\n",
              "    const fileDataPromise = new Promise((resolve) => {\n",
              "      const reader = new FileReader();\n",
              "      reader.onload = (e) => {\n",
              "        resolve(e.target.result);\n",
              "      };\n",
              "      reader.readAsArrayBuffer(file);\n",
              "    });\n",
              "    // Wait for the data to be ready.\n",
              "    let fileData = yield {\n",
              "      promise: fileDataPromise,\n",
              "      response: {\n",
              "        action: 'continue',\n",
              "      }\n",
              "    };\n",
              "\n",
              "    // Use a chunked sending to avoid message size limits. See b/62115660.\n",
              "    let position = 0;\n",
              "    do {\n",
              "      const length = Math.min(fileData.byteLength - position, MAX_PAYLOAD_SIZE);\n",
              "      const chunk = new Uint8Array(fileData, position, length);\n",
              "      position += length;\n",
              "\n",
              "      const base64 = btoa(String.fromCharCode.apply(null, chunk));\n",
              "      yield {\n",
              "        response: {\n",
              "          action: 'append',\n",
              "          file: file.name,\n",
              "          data: base64,\n",
              "        },\n",
              "      };\n",
              "\n",
              "      let percentDone = fileData.byteLength === 0 ?\n",
              "          100 :\n",
              "          Math.round((position / fileData.byteLength) * 100);\n",
              "      percent.textContent = `${percentDone}% done`;\n",
              "\n",
              "    } while (position < fileData.byteLength);\n",
              "  }\n",
              "\n",
              "  // All done.\n",
              "  yield {\n",
              "    response: {\n",
              "      action: 'complete',\n",
              "    }\n",
              "  };\n",
              "}\n",
              "\n",
              "scope.google = scope.google || {};\n",
              "scope.google.colab = scope.google.colab || {};\n",
              "scope.google.colab._files = {\n",
              "  _uploadFiles,\n",
              "  _uploadFilesContinue,\n",
              "};\n",
              "})(self);\n",
              "</script> "
            ]
          },
          "metadata": {}
        },
        {
          "output_type": "stream",
          "name": "stdout",
          "text": [
            "Saving maaslar_yeni.txt to maaslar_yeni (1).txt\n"
          ]
        }
      ]
    },
    {
      "cell_type": "code",
      "source": [
        "data = pd.read_csv(io.BytesIO(uploaded['maaslar_yeni.txt']))\n",
        "print(data)"
      ],
      "metadata": {
        "colab": {
          "base_uri": "https://localhost:8080/"
        },
        "id": "XGasDaS1AS8w",
        "outputId": "cb950f40-53a1-4951-c76a-ed2482a83345"
      },
      "execution_count": null,
      "outputs": [
        {
          "output_type": "stream",
          "name": "stdout",
          "text": [
            "    Calisan ID             unvan  UnvanSeviyesi  Kidem  Puan   maas\n",
            "0            1             Cayci              1      5    70   2250\n",
            "1            2          Sekreter              2      5    70   2500\n",
            "2            3  Uzman Yardimcisi              3      5    70   3000\n",
            "3            4             Uzman              4      5    70   4000\n",
            "4            5  Proje Yoneticisi              5      5    70   5500\n",
            "5            6               Sef              6      5    70   7500\n",
            "6            7             Mudur              7      5    70  10000\n",
            "7            8          Direktor              8      5    70  15000\n",
            "8            9           C-level              9      5    70  25000\n",
            "9           10               CEO             10      5    70  50000\n",
            "10          11             Cayci              1      7    99   2000\n",
            "11          12          Sekreter              2      7     9   2500\n",
            "12          13  Uzman Yardimcisi              3      7    62   4000\n",
            "13          14             Uzman              4      4    38   3000\n",
            "14          15  Proje Yoneticisi              5      1    80   5000\n",
            "15          16               Sef              6      2    35   5000\n",
            "16          17             Mudur              7      8    99  12000\n",
            "17          18          Direktor              8      4    58  11000\n",
            "18          19           C-level              9      2    20  15000\n",
            "19          20               CEO             10      4    42  22000\n",
            "20          21             Cayci              1      8    11   2200\n",
            "21          22          Sekreter              2      2    53   2200\n",
            "22          23  Uzman Yardimcisi              3      8    50   2800\n",
            "23          24             Uzman              4      9    91   6000\n",
            "24          25  Proje Yoneticisi              5      9    71   5400\n",
            "25          26               Sef              6      1     2   4000\n",
            "26          27             Mudur              7     10    81  12000\n",
            "27          28          Direktor              8     10    38  10000\n",
            "28          29           C-level              9      1    50  15000\n",
            "29          30               CEO             10      9    83  60000\n"
          ]
        }
      ]
    },
    {
      "cell_type": "code",
      "source": [
        "# take independent variables and dependent variables (Y is salary)\n",
        "x = data.iloc[:,2:5]\n",
        "y = data.iloc[:,5:]\n",
        "X = x.values\n",
        "Y = y.values"
      ],
      "metadata": {
        "id": "wohs-imAzpA4"
      },
      "execution_count": null,
      "outputs": []
    },
    {
      "cell_type": "code",
      "source": [
        "# calculate p value\n",
        "import statsmodels.api as sm\n",
        "beta0 = np.append(arr = np.ones((len(data),1)).astype(int), values=x, axis=1)\n",
        "# did not include second column since it's same with 3rd (labeled version of 3rd column)\n",
        "X_l = data.iloc[:,[0,2,3,4]].values\n",
        "X_l = np.array(X_l, dtype=float)\n",
        "\n",
        "model = sm.OLS(data.iloc[:,5:].values, X_l).fit()\n",
        "print(model.summary())\n",
        "# in first try x1 = 0.271, x2 = 0 , x3 = 0.548, x4 = 0.516 delete x3 and continue (column 3)\n",
        "\n",
        "\n",
        "X_l = data.iloc[:,[0,2,4]].values\n",
        "X_l = np.array(X_l, dtype=float)\n",
        "\n",
        "model = sm.OLS(data.iloc[:,5:].values, X_l).fit()\n",
        "print(model.summary())\n",
        "# in second try x1 = 0.347, x2 = 0 , x3 = 0.745 delete x3 and continue (column 3)\n",
        "\n",
        "\n",
        "X_l = data.iloc[:,[0,2]].values\n",
        "X_l = np.array(X_l, dtype=float)\n",
        "\n",
        "model = sm.OLS(data.iloc[:,5:].values, X_l).fit()\n",
        "print(model.summary())\n",
        "# in third and last try x1 = 0.299, x2 = 0\n",
        "\n",
        "\n",
        "# ---------------------------------------------\n",
        "# it means only id and level of title is important (unvan seviyesi)"
      ],
      "metadata": {
        "colab": {
          "base_uri": "https://localhost:8080/"
        },
        "id": "2GIHk4Gt20kX",
        "outputId": "1870562a-a33d-4dfb-b4bb-fab4b6f81665"
      },
      "execution_count": null,
      "outputs": [
        {
          "output_type": "stream",
          "name": "stdout",
          "text": [
            "                                 OLS Regression Results                                \n",
            "=======================================================================================\n",
            "Dep. Variable:                      y   R-squared (uncentered):                   0.694\n",
            "Model:                            OLS   Adj. R-squared (uncentered):              0.647\n",
            "Method:                 Least Squares   F-statistic:                              14.77\n",
            "Date:                Thu, 15 Sep 2022   Prob (F-statistic):                    2.04e-06\n",
            "Time:                        21:58:59   Log-Likelihood:                         -317.24\n",
            "No. Observations:                  30   AIC:                                      642.5\n",
            "Df Residuals:                      26   BIC:                                      648.1\n",
            "Df Model:                           4                                                  \n",
            "Covariance Type:            nonrobust                                                  \n",
            "==============================================================================\n",
            "                 coef    std err          t      P>|t|      [0.025      0.975]\n",
            "------------------------------------------------------------------------------\n",
            "x1          -269.6472    239.513     -1.126      0.271    -761.974     222.680\n",
            "x2          2970.2367    681.198      4.360      0.000    1570.015    4370.458\n",
            "x3           481.4185    790.516      0.609      0.548   -1143.511    2106.348\n",
            "x4           -47.8958     72.742     -0.658      0.516    -197.419     101.628\n",
            "==============================================================================\n",
            "Omnibus:                       41.319   Durbin-Watson:                   1.094\n",
            "Prob(Omnibus):                  0.000   Jarque-Bera (JB):              137.645\n",
            "Skew:                           2.928   Prob(JB):                     1.29e-30\n",
            "Kurtosis:                      11.708   Cond. No.                         30.2\n",
            "==============================================================================\n",
            "\n",
            "Notes:\n",
            "[1] R² is computed without centering (uncentered) since the model does not contain a constant.\n",
            "[2] Standard Errors assume that the covariance matrix of the errors is correctly specified.\n",
            "                                 OLS Regression Results                                \n",
            "=======================================================================================\n",
            "Dep. Variable:                      y   R-squared (uncentered):                   0.690\n",
            "Model:                            OLS   Adj. R-squared (uncentered):              0.656\n",
            "Method:                 Least Squares   F-statistic:                              20.03\n",
            "Date:                Thu, 15 Sep 2022   Prob (F-statistic):                    4.89e-07\n",
            "Time:                        21:58:59   Log-Likelihood:                         -317.45\n",
            "No. Observations:                  30   AIC:                                      640.9\n",
            "Df Residuals:                      27   BIC:                                      645.1\n",
            "Df Model:                           3                                                  \n",
            "Covariance Type:            nonrobust                                                  \n",
            "==============================================================================\n",
            "                 coef    std err          t      P>|t|      [0.025      0.975]\n",
            "------------------------------------------------------------------------------\n",
            "x1          -190.9670    199.316     -0.958      0.347    -599.930     217.996\n",
            "x2          2877.5101    656.181      4.385      0.000    1531.137    4223.883\n",
            "x3           -16.9139     51.384     -0.329      0.745    -122.345      88.517\n",
            "==============================================================================\n",
            "Omnibus:                       41.213   Durbin-Watson:                   1.153\n",
            "Prob(Omnibus):                  0.000   Jarque-Bera (JB):              136.564\n",
            "Skew:                           2.922   Prob(JB):                     2.22e-30\n",
            "Kurtosis:                      11.666   Cond. No.                         23.9\n",
            "==============================================================================\n",
            "\n",
            "Notes:\n",
            "[1] R² is computed without centering (uncentered) since the model does not contain a constant.\n",
            "[2] Standard Errors assume that the covariance matrix of the errors is correctly specified.\n",
            "                                 OLS Regression Results                                \n",
            "=======================================================================================\n",
            "Dep. Variable:                      y   R-squared (uncentered):                   0.689\n",
            "Model:                            OLS   Adj. R-squared (uncentered):              0.667\n",
            "Method:                 Least Squares   F-statistic:                              30.98\n",
            "Date:                Thu, 15 Sep 2022   Prob (F-statistic):                    8.01e-08\n",
            "Time:                        21:58:59   Log-Likelihood:                         -317.51\n",
            "No. Observations:                  30   AIC:                                      639.0\n",
            "Df Residuals:                      28   BIC:                                      641.8\n",
            "Df Model:                           2                                                  \n",
            "Covariance Type:            nonrobust                                                  \n",
            "==============================================================================\n",
            "                 coef    std err          t      P>|t|      [0.025      0.975]\n",
            "------------------------------------------------------------------------------\n",
            "x1          -203.7027    192.387     -1.059      0.299    -597.789     190.383\n",
            "x2          2764.6200    550.446      5.023      0.000    1637.083    3892.157\n",
            "==============================================================================\n",
            "Omnibus:                       42.429   Durbin-Watson:                   1.133\n",
            "Prob(Omnibus):                  0.000   Jarque-Bera (JB):              146.991\n",
            "Skew:                           3.006   Prob(JB):                     1.21e-32\n",
            "Kurtosis:                      12.025   Cond. No.                         5.90\n",
            "==============================================================================\n",
            "\n",
            "Notes:\n",
            "[1] R² is computed without centering (uncentered) since the model does not contain a constant.\n",
            "[2] Standard Errors assume that the covariance matrix of the errors is correctly specified.\n"
          ]
        }
      ]
    },
    {
      "cell_type": "code",
      "source": [
        "# MLR algorithm (should we sort?)\n",
        "from sklearn import preprocessing\n",
        "from sklearn.model_selection import train_test_split\n",
        "x_train, x_test, y_train, y_test = train_test_split(X, Y, \n",
        "                                                    test_size=0.33,\n",
        "                                                    random_state=0)\n",
        "\n",
        "from sklearn.linear_model import LinearRegression\n",
        "regressor = LinearRegression()\n",
        "regressor.fit(x_train, y_train)\n",
        "\n",
        "\n",
        "y_predict = regressor.predict(x_test)\n",
        "print(y_predict)  # compare with y_test\n",
        "print(\"-----Real Results-----\")\n",
        "print(y_test)\n",
        "\n",
        "# r2 values\n",
        "print(\"Linear Regression R2 values:\")\n",
        "print(r2_score(Y, regressor.predict(X)))\n",
        "\n",
        "model=sm.OLS(regressor.predict(X),X)\n",
        "print(model.fit().summary())"
      ],
      "metadata": {
        "colab": {
          "base_uri": "https://localhost:8080/"
        },
        "id": "SPvEfPCj73Cp",
        "outputId": "650af535-7eba-4b46-b0ee-05dc518b9291"
      },
      "execution_count": null,
      "outputs": [
        {
          "output_type": "stream",
          "name": "stdout",
          "text": [
            "[[ 2125.16352808]\n",
            " [17783.80705803]\n",
            " [ 3732.15009423]\n",
            " [-1453.80132424]\n",
            " [29006.37575652]\n",
            " [18686.13003853]\n",
            " [32610.17590795]\n",
            " [ 1659.86708885]\n",
            " [20149.59099274]\n",
            " [ 8251.1726371 ]]\n",
            "-----Real Results-----\n",
            "[[ 3000]\n",
            " [15000]\n",
            " [ 3000]\n",
            " [ 2000]\n",
            " [12000]\n",
            " [ 5400]\n",
            " [10000]\n",
            " [ 2500]\n",
            " [11000]\n",
            " [ 2800]]\n",
            "Linear Regression R2 values:\n",
            "0.4936499525991487\n",
            "                                 OLS Regression Results                                \n",
            "=======================================================================================\n",
            "Dep. Variable:                      y   R-squared (uncentered):                   0.889\n",
            "Model:                            OLS   Adj. R-squared (uncentered):              0.876\n",
            "Method:                 Least Squares   F-statistic:                              71.94\n",
            "Date:                Thu, 15 Sep 2022   Prob (F-statistic):                    5.34e-13\n",
            "Time:                        21:58:59   Log-Likelihood:                         -303.47\n",
            "No. Observations:                  30   AIC:                                      612.9\n",
            "Df Residuals:                      27   BIC:                                      617.1\n",
            "Df Model:                           3                                                  \n",
            "Covariance Type:            nonrobust                                                  \n",
            "==============================================================================\n",
            "                 coef    std err          t      P>|t|      [0.025      0.975]\n",
            "------------------------------------------------------------------------------\n",
            "x1          2839.3166    331.468      8.566      0.000    2159.200    3519.434\n",
            "x2           994.3022    412.794      2.409      0.023     147.319    1841.285\n",
            "x3          -106.3623     43.554     -2.442      0.021    -195.727     -16.997\n",
            "==============================================================================\n",
            "Omnibus:                        0.440   Durbin-Watson:                   1.617\n",
            "Prob(Omnibus):                  0.803   Jarque-Bera (JB):                0.573\n",
            "Skew:                           0.109   Prob(JB):                        0.751\n",
            "Kurtosis:                       2.359   Cond. No.                         23.7\n",
            "==============================================================================\n",
            "\n",
            "Notes:\n",
            "[1] R² is computed without centering (uncentered) since the model does not contain a constant.\n",
            "[2] Standard Errors assume that the covariance matrix of the errors is correctly specified.\n"
          ]
        }
      ]
    },
    {
      "cell_type": "code",
      "source": [
        "# Polynomial Regression algorithm\n",
        "\n",
        "from sklearn.preprocessing import PolynomialFeatures\n",
        "poly_reg = PolynomialFeatures(degree = 4)\n",
        "x_poly = poly_reg.fit_transform(X)\n",
        "print(x_poly)\n",
        "\n",
        "lin_reg2 = LinearRegression()\n",
        "lin_reg2.fit(x_poly, y)\n",
        "\n",
        "# r2 values\n",
        "print(\"Polynomial Regression R2 values:\")\n",
        "print(r2_score(Y, lin_reg2.predict(poly_reg.fit_transform(X))))\n",
        "\n",
        "model2=sm.OLS(lin_reg2.predict(poly_reg.fit_transform(X)),X)\n",
        "print(model2.fit().summary())"
      ],
      "metadata": {
        "colab": {
          "base_uri": "https://localhost:8080/"
        },
        "id": "kXCyv1A--VRi",
        "outputId": "028d740b-e279-4f50-f4d5-0cbdf3264885"
      },
      "execution_count": null,
      "outputs": [
        {
          "output_type": "stream",
          "name": "stdout",
          "text": [
            "[[1.0000000e+00 1.0000000e+00 5.0000000e+00 ... 1.2250000e+05\n",
            "  1.7150000e+06 2.4010000e+07]\n",
            " [1.0000000e+00 2.0000000e+00 5.0000000e+00 ... 1.2250000e+05\n",
            "  1.7150000e+06 2.4010000e+07]\n",
            " [1.0000000e+00 3.0000000e+00 5.0000000e+00 ... 1.2250000e+05\n",
            "  1.7150000e+06 2.4010000e+07]\n",
            " ...\n",
            " [1.0000000e+00 8.0000000e+00 1.0000000e+01 ... 1.4440000e+05\n",
            "  5.4872000e+05 2.0851360e+06]\n",
            " [1.0000000e+00 9.0000000e+00 1.0000000e+00 ... 2.5000000e+03\n",
            "  1.2500000e+05 6.2500000e+06]\n",
            " [1.0000000e+00 1.0000000e+01 9.0000000e+00 ... 5.5800900e+05\n",
            "  5.1460830e+06 4.7458321e+07]]\n",
            "Polynomial Regression R2 values:\n",
            "0.999000356022587\n",
            "                                 OLS Regression Results                                \n",
            "=======================================================================================\n",
            "Dep. Variable:                      y   R-squared (uncentered):                   0.680\n",
            "Model:                            OLS   Adj. R-squared (uncentered):              0.644\n",
            "Method:                 Least Squares   F-statistic:                              19.11\n",
            "Date:                Thu, 15 Sep 2022   Prob (F-statistic):                    7.49e-07\n",
            "Time:                        21:58:59   Log-Likelihood:                         -317.93\n",
            "No. Observations:                  30   AIC:                                      641.9\n",
            "Df Residuals:                      27   BIC:                                      646.1\n",
            "Df Model:                           3                                                  \n",
            "Covariance Type:            nonrobust                                                  \n",
            "==============================================================================\n",
            "                 coef    std err          t      P>|t|      [0.025      0.975]\n",
            "------------------------------------------------------------------------------\n",
            "x1          2494.8107    536.645      4.649      0.000    1393.705    3595.916\n",
            "x2             1.3531    668.311      0.002      0.998   -1369.907    1372.614\n",
            "x3           -26.5687     70.513     -0.377      0.709    -171.250     118.113\n",
            "==============================================================================\n",
            "Omnibus:                       39.861   Durbin-Watson:                   1.171\n",
            "Prob(Omnibus):                  0.000   Jarque-Bera (JB):              121.882\n",
            "Skew:                           2.862   Prob(JB):                     3.42e-27\n",
            "Kurtosis:                      11.046   Cond. No.                         23.7\n",
            "==============================================================================\n",
            "\n",
            "Notes:\n",
            "[1] R² is computed without centering (uncentered) since the model does not contain a constant.\n",
            "[2] Standard Errors assume that the covariance matrix of the errors is correctly specified.\n"
          ]
        }
      ]
    },
    {
      "cell_type": "code",
      "source": [
        "# SVR Algorithm\n",
        "from sklearn.preprocessing import StandardScaler\n",
        "sc1 = StandardScaler()\n",
        "x_scaled = sc1.fit_transform(X)\n",
        "sc2 = StandardScaler()\n",
        "y_scaled = sc2.fit_transform(Y)\n",
        "\n",
        "from sklearn.svm import SVR\n",
        "\n",
        "svr_reg = SVR(kernel='rbf')  \n",
        "svr_reg.fit(x_scaled, y_scaled)\n",
        "\n",
        "print(r2_score(y_scaled, svr_reg.predict(x_scaled)))\n",
        "\n",
        "model3 = sm.OLS(svr_reg.predict(x_scaled), x_scaled)\n",
        "print(model3.fit().summary())"
      ],
      "metadata": {
        "colab": {
          "base_uri": "https://localhost:8080/"
        },
        "id": "gSv8Iha0_4qx",
        "outputId": "642d4068-55f5-4063-fd4a-9c7ee8ccd6e6"
      },
      "execution_count": null,
      "outputs": [
        {
          "output_type": "stream",
          "name": "stdout",
          "text": [
            "0.6287203839391853\n",
            "                                 OLS Regression Results                                \n",
            "=======================================================================================\n",
            "Dep. Variable:                      y   R-squared (uncentered):                   0.782\n",
            "Model:                            OLS   Adj. R-squared (uncentered):              0.758\n",
            "Method:                 Least Squares   F-statistic:                              32.37\n",
            "Date:                Thu, 15 Sep 2022   Prob (F-statistic):                    4.34e-09\n",
            "Time:                        21:58:59   Log-Likelihood:                        -0.92453\n",
            "No. Observations:                  30   AIC:                                      7.849\n",
            "Df Residuals:                      27   BIC:                                      12.05\n",
            "Df Model:                           3                                                  \n",
            "Covariance Type:            nonrobust                                                  \n",
            "==============================================================================\n",
            "                 coef    std err          t      P>|t|      [0.025      0.975]\n",
            "------------------------------------------------------------------------------\n",
            "x1             0.4715      0.049      9.709      0.000       0.372       0.571\n",
            "x2             0.0674      0.051      1.314      0.200      -0.038       0.173\n",
            "x3             0.0427      0.051      0.839      0.409      -0.062       0.147\n",
            "==============================================================================\n",
            "Omnibus:                        3.662   Durbin-Watson:                   0.494\n",
            "Prob(Omnibus):                  0.160   Jarque-Bera (JB):                2.279\n",
            "Skew:                           0.464   Prob(JB):                        0.320\n",
            "Kurtosis:                       2.019   Cond. No.                         1.44\n",
            "==============================================================================\n",
            "\n",
            "Notes:\n",
            "[1] R² is computed without centering (uncentered) since the model does not contain a constant.\n",
            "[2] Standard Errors assume that the covariance matrix of the errors is correctly specified.\n"
          ]
        },
        {
          "output_type": "stream",
          "name": "stderr",
          "text": [
            "/usr/local/lib/python3.7/dist-packages/sklearn/utils/validation.py:993: DataConversionWarning: A column-vector y was passed when a 1d array was expected. Please change the shape of y to (n_samples, ), for example using ravel().\n",
            "  y = column_or_1d(y, warn=True)\n"
          ]
        }
      ]
    },
    {
      "cell_type": "code",
      "source": [
        "# Decision Tree\n",
        "from sklearn.tree import DecisionTreeRegressor\n",
        "r_dt = DecisionTreeRegressor(random_state=0)\n",
        "r_dt.fit(X, Y)\n",
        "\n",
        "# r^2 value for decision tree\n",
        "print(\"DECISION TREE R2 VALUE:\")\n",
        "print(r2_score(Y, r_dt.predict(X)))"
      ],
      "metadata": {
        "colab": {
          "base_uri": "https://localhost:8080/"
        },
        "id": "j2PJsPkdAWS4",
        "outputId": "5d38e3aa-d784-4f1a-e676-e7b9e1f91680"
      },
      "execution_count": null,
      "outputs": [
        {
          "output_type": "stream",
          "name": "stdout",
          "text": [
            "DECISION TREE R2 VALUE:\n",
            "1.0\n"
          ]
        }
      ]
    },
    {
      "cell_type": "code",
      "source": [
        "# Random Forest\n",
        "from sklearn.ensemble import RandomForestRegressor\n",
        "# n_estimators selects how many decision tree will be used.\n",
        "rf_reg = RandomForestRegressor(n_estimators = 10, random_state=0)\n",
        "rf_reg.fit(X, Y)\n",
        "\n",
        "# plt.scatter(X, Y, color='red')\n",
        "# plt.plot(X, rf_reg.predict(X), color='blue')\n",
        "\n",
        "# r2 value\n",
        "print(r2_score(Y, rf_reg.predict(X)))\n",
        "\n",
        "model5=sm.OLS(rf_reg.predict(X),X)\n",
        "print(model5.fit().summary())"
      ],
      "metadata": {
        "colab": {
          "base_uri": "https://localhost:8080/"
        },
        "id": "3qQumXLgAgnZ",
        "outputId": "b0205346-1b2a-4fe0-8fb5-7a3905ad7fed"
      },
      "execution_count": null,
      "outputs": [
        {
          "output_type": "stream",
          "name": "stdout",
          "text": [
            "0.9475498704400864\n",
            "                                 OLS Regression Results                                \n",
            "=======================================================================================\n",
            "Dep. Variable:                      y   R-squared (uncentered):                   0.713\n",
            "Model:                            OLS   Adj. R-squared (uncentered):              0.681\n",
            "Method:                 Least Squares   F-statistic:                              22.31\n",
            "Date:                Thu, 15 Sep 2022   Prob (F-statistic):                    1.79e-07\n",
            "Time:                        21:59:33   Log-Likelihood:                         -316.07\n",
            "No. Observations:                  30   AIC:                                      638.1\n",
            "Df Residuals:                      27   BIC:                                      642.3\n",
            "Df Model:                           3                                                  \n",
            "Covariance Type:            nonrobust                                                  \n",
            "==============================================================================\n",
            "                 coef    std err          t      P>|t|      [0.025      0.975]\n",
            "------------------------------------------------------------------------------\n",
            "x1          2671.9265    504.444      5.297      0.000    1636.892    3706.961\n",
            "x2             1.0522    628.209      0.002      0.999   -1287.927    1290.031\n",
            "x3           -44.2927     66.282     -0.668      0.510    -180.293      91.707\n",
            "==============================================================================\n",
            "Omnibus:                       32.588   Durbin-Watson:                   1.349\n",
            "Prob(Omnibus):                  0.000   Jarque-Bera (JB):               73.156\n",
            "Skew:                           2.425   Prob(JB):                     1.30e-16\n",
            "Kurtosis:                       8.916   Cond. No.                         23.7\n",
            "==============================================================================\n",
            "\n",
            "Notes:\n",
            "[1] R² is computed without centering (uncentered) since the model does not contain a constant.\n",
            "[2] Standard Errors assume that the covariance matrix of the errors is correctly specified.\n"
          ]
        },
        {
          "output_type": "stream",
          "name": "stderr",
          "text": [
            "/usr/local/lib/python3.7/dist-packages/ipykernel_launcher.py:5: DataConversionWarning: A column-vector y was passed when a 1d array was expected. Please change the shape of y to (n_samples,), for example using ravel().\n",
            "  \"\"\"\n"
          ]
        }
      ]
    },
    {
      "cell_type": "markdown",
      "source": [
        "OLS and r2_score results are different because 2 models calculates r2 differently."
      ],
      "metadata": {
        "id": "OMjFelNMdXDh"
      }
    },
    {
      "cell_type": "code",
      "source": [
        "# corelation matrix\n",
        "print(data.corr())\n",
        "# we can use corelation matrix to choose column to create model "
      ],
      "metadata": {
        "id": "qqg4xXsLeGpK"
      },
      "execution_count": null,
      "outputs": []
    }
  ]
}