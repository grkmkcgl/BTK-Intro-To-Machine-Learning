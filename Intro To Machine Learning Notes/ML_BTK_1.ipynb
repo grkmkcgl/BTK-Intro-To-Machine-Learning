{
  "nbformat": 4,
  "nbformat_minor": 0,
  "metadata": {
    "colab": {
      "provenance": [],
      "authorship_tag": "ABX9TyOtV3RUqEbSBB4/Y+qalCJ1"
    },
    "kernelspec": {
      "name": "python3",
      "display_name": "Python 3"
    },
    "language_info": {
      "name": "python"
    }
  },
  "cells": [
    {
      "cell_type": "markdown",
      "source": [
        "# We will use colab function to upload data files"
      ],
      "metadata": {
        "id": "gECw-G24a6xq"
      }
    },
    {
      "cell_type": "code",
      "source": [
        "import io\n",
        "import pandas as pd\n",
        "import numpy as np\n",
        "import matplotlib.pyplot as plt\n",
        "from google.colab import files\n",
        "uploaded = files.upload()"
      ],
      "metadata": {
        "id": "ZWlA_zSTTymE"
      },
      "execution_count": null,
      "outputs": []
    },
    {
      "cell_type": "code",
      "source": [
        "uploaded = files.upload()\n",
        "data = pd.read_csv(io.BytesIO(uploaded['veriler.txt']))\n",
        "# Dataset is now stored in a Pandas Dataframe"
      ],
      "metadata": {
        "id": "dKQKNaQHUmOK"
      },
      "execution_count": null,
      "outputs": []
    },
    {
      "cell_type": "code",
      "source": [
        "# boykilo = data[['boy', 'kilo']]\n",
        "# print(boykilo)\n",
        "print(data)"
      ],
      "metadata": {
        "id": "UIl8pb7dUvGS"
      },
      "execution_count": null,
      "outputs": []
    },
    {
      "cell_type": "markdown",
      "source": [
        "The code below here fills missing values with mean value of that column\n",
        "\n",
        "(use eksikveriler.txt here)"
      ],
      "metadata": {
        "id": "7bUbZP1Ea0nh"
      }
    },
    {
      "cell_type": "code",
      "source": [
        "from sklearn.impute import SimpleImputer\n",
        "\n",
        "imputer = SimpleImputer(missing_values=np.nan , strategy='mean')\n",
        "\n",
        "age = data.iloc[:,1:4].values   # iloc[startrow:endrow, startcolmn:endcolumn]\n",
        "imputer = imputer.fit(age[:,1:4]) # fit used for learning purposes\n",
        "age[:,1:4] = imputer.transform(age[:,1:4]) \n",
        "print(age)\n",
        "\n",
        "# fit is for learning, transform for applying"
      ],
      "metadata": {
        "id": "geUprlLLXrdS"
      },
      "execution_count": null,
      "outputs": []
    },
    {
      "cell_type": "markdown",
      "source": [
        "We can't sort some types of data. We can solve this issue by giving a new column to each of them."
      ],
      "metadata": {
        "id": "_NwkaT8M0y9O"
      }
    },
    {
      "cell_type": "code",
      "source": [
        "country = data.iloc[:,0:1].values\n",
        "# print(country)\n",
        "\n",
        "from sklearn import preprocessing\n",
        "# le : label encoding\n",
        "le = preprocessing.LabelEncoder()\n",
        "country[:,0] = le.fit_transform(data.iloc[:,0])\n",
        "# print(country)\n",
        "\n",
        "# ohe : one hat encoding\n",
        "ohe = preprocessing.OneHotEncoder()\n",
        "country = ohe.fit_transform(country).toarray()\n",
        "print(country)"
      ],
      "metadata": {
        "id": "iIZh7fcc0fud"
      },
      "execution_count": null,
      "outputs": []
    },
    {
      "cell_type": "markdown",
      "source": [
        "Create results frame using pandas library"
      ],
      "metadata": {
        "id": "JsWM4m3tCNFv"
      }
    },
    {
      "cell_type": "code",
      "source": [
        "print(len(data))\n",
        "# using len:\n",
        "dataLength = len(data)\n",
        "# create 0 to 22 indexing:\n",
        "result = pd.DataFrame(data=country, index = range(dataLength),\n",
        "                      columns = ['fr', 'tr', 'us'])\n",
        "print(result)\n",
        "\n",
        "result2 = pd.DataFrame(data = age, index = range(dataLength),\n",
        "                       columns=['boy', 'kilo', 'yas'])\n",
        "print(result2)\n",
        "# -1 to take last column\n",
        "sex = data.iloc[:,-1].values\n",
        "result3 = pd.DataFrame(data = sex, index = range(dataLength),\n",
        "                       columns=['cinsiyet'])\n",
        "\n",
        "# merge all results together\n",
        "s = pd.concat([result, result2], axis=1)  # it does concatenation VERTICAL\n",
        "# if there is NO axis=1\n",
        "print(s)\n",
        "\n",
        "s2 = pd.concat([s, result3], axis=1)\n",
        "print(s2)"
      ],
      "metadata": {
        "id": "3ju81YrTBrhW"
      },
      "execution_count": null,
      "outputs": []
    },
    {
      "cell_type": "markdown",
      "source": [
        "Dividing dataset for learning and testing"
      ],
      "metadata": {
        "id": "l7ODLOPZEgFZ"
      }
    },
    {
      "cell_type": "code",
      "source": [
        "from sklearn.model_selection import train_test_split\n",
        "# x for independent y for dependent variables\n",
        "# 0.33 mean 33% for test 67% for train so in here 7 for test rest for train\n",
        "x_train, x_test, y_train, y_test = train_test_split(s, result3, \n",
        "                                                    test_size=0.33,\n",
        "                                                    random_state=0)\n",
        "# here x includes everything except sex\n",
        "# y only includes sex because I think we will create a model to\n",
        "# guess a person's sex using other values"
      ],
      "metadata": {
        "id": "Wcwq881PEjIB"
      },
      "execution_count": null,
      "outputs": []
    },
    {
      "cell_type": "markdown",
      "source": [
        "Feature Scaling"
      ],
      "metadata": {
        "id": "NtAZg6Ivd-FA"
      }
    },
    {
      "cell_type": "code",
      "source": [
        "from sklearn.preprocessing import StandardScaler\n",
        "# create object from StandarScaler class\n",
        "sc = StandardScaler()\n",
        "X_train = sc.fit_transform(x_train)\n",
        "X_test = sc.fit_transform(x_test)\n",
        "print(X_train)"
      ],
      "metadata": {
        "colab": {
          "base_uri": "https://localhost:8080/"
        },
        "id": "Y5UwBj3EOfEO",
        "outputId": "8f98b7cc-a133-444c-92b1-29b89bc2afe6"
      },
      "execution_count": null,
      "outputs": [
        {
          "output_type": "stream",
          "name": "stdout",
          "text": [
            "[[-0.63245553  0.8660254  -0.40824829  0.45049444 -0.29657884 -0.26680787]\n",
            " [-0.63245553  0.8660254  -0.40824829  1.00824945  0.5096549   0.        ]\n",
            " [ 1.58113883 -1.15470054 -0.40824829  1.13696215  0.91277178 -0.17787191]\n",
            " [-0.63245553  0.8660254  -0.40824829 -1.6089087  -1.18343596 -1.15616745]\n",
            " [-0.63245553  0.8660254  -0.40824829 -1.35148331 -1.34468271 -1.33403936]\n",
            " [-0.63245553  0.8660254  -0.40824829  0.57920713  0.91277178  0.44467979]\n",
            " [ 1.58113883 -1.15470054 -0.40824829  0.87953676  0.5096549   0.17787191]\n",
            " [-0.63245553 -1.15470054  2.44948974  0.79372829  1.51744708  0.71148766]\n",
            " [-0.63245553  0.8660254  -0.40824829  0.36468597  0.91277178  0.88935957]\n",
            " [ 1.58113883 -1.15470054 -0.40824829  0.70791983  0.8321484   0.26680787]\n",
            " [-0.63245553  0.8660254  -0.40824829 -1.43729177 -1.50592946 -1.42297532]\n",
            " [-0.63245553  0.8660254  -0.40824829 -1.56600447 -1.50592946 -1.33403936]\n",
            " [ 1.58113883 -1.15470054 -0.40824829  0.32178174  0.10653803  1.95659106]\n",
            " [-0.63245553 -1.15470054  2.44948974 -0.27887751 -0.37720222  1.2451034 ]]\n"
          ]
        }
      ]
    }
  ]
}