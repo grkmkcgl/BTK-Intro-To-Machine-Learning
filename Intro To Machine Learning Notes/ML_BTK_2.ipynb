{
  "cells": [
    {
      "cell_type": "markdown",
      "metadata": {
        "id": "q6k-IcfPlt2X"
      },
      "source": [
        "# For data manipulation parts and codes use link:\n",
        "\n",
        "[ML BTK-1 Colab](https://colab.research.google.com/drive/1R8bJJypAHdpol59H9bgMTDRWCKzTgNoC#scrollTo=UIl8pb7dUvGS)\n",
        "\n",
        "Next:\n",
        "SVR Algorithm\n",
        "[SVR Colab](https://colab.research.google.com/drive/1QWtItyz5mVSwWiGtQdMzI6OD3_JwuGzO#scrollTo=ZsEukbjNIUvm)"
      ]
    },
    {
      "cell_type": "markdown",
      "metadata": {
        "id": "Kjg5rH7hg67R"
      },
      "source": [
        "## **PREDICTION ALGORITHMS / importing libraries**\n",
        "\n",
        "We will use classification for categorical data and prediction for numerical data.\n",
        "\n",
        "Forecasting and prediction are different. We can use prediction to predict past values as well."
      ]
    },
    {
      "cell_type": "code",
      "execution_count": null,
      "metadata": {
        "id": "Rx3YdK3thz7d"
      },
      "outputs": [],
      "source": [
        "import io\n",
        "import pandas as pd\n",
        "import numpy as np\n",
        "import matplotlib.pyplot as plt\n",
        "from google.colab import files"
      ]
    },
    {
      "cell_type": "code",
      "execution_count": null,
      "metadata": {
        "colab": {
          "base_uri": "https://localhost:8080/",
          "height": 73
        },
        "id": "LiB4ppC9i6L_",
        "outputId": "0f5716d5-6146-4648-a2be-029626fea06d"
      },
      "outputs": [
        {
          "output_type": "display_data",
          "data": {
            "text/plain": [
              "<IPython.core.display.HTML object>"
            ],
            "text/html": [
              "\n",
              "     <input type=\"file\" id=\"files-1f8c96d9-f1ba-4d06-92b5-c46a4c45f407\" name=\"files[]\" multiple disabled\n",
              "        style=\"border:none\" />\n",
              "     <output id=\"result-1f8c96d9-f1ba-4d06-92b5-c46a4c45f407\">\n",
              "      Upload widget is only available when the cell has been executed in the\n",
              "      current browser session. Please rerun this cell to enable.\n",
              "      </output>\n",
              "      <script>// Copyright 2017 Google LLC\n",
              "//\n",
              "// Licensed under the Apache License, Version 2.0 (the \"License\");\n",
              "// you may not use this file except in compliance with the License.\n",
              "// You may obtain a copy of the License at\n",
              "//\n",
              "//      http://www.apache.org/licenses/LICENSE-2.0\n",
              "//\n",
              "// Unless required by applicable law or agreed to in writing, software\n",
              "// distributed under the License is distributed on an \"AS IS\" BASIS,\n",
              "// WITHOUT WARRANTIES OR CONDITIONS OF ANY KIND, either express or implied.\n",
              "// See the License for the specific language governing permissions and\n",
              "// limitations under the License.\n",
              "\n",
              "/**\n",
              " * @fileoverview Helpers for google.colab Python module.\n",
              " */\n",
              "(function(scope) {\n",
              "function span(text, styleAttributes = {}) {\n",
              "  const element = document.createElement('span');\n",
              "  element.textContent = text;\n",
              "  for (const key of Object.keys(styleAttributes)) {\n",
              "    element.style[key] = styleAttributes[key];\n",
              "  }\n",
              "  return element;\n",
              "}\n",
              "\n",
              "// Max number of bytes which will be uploaded at a time.\n",
              "const MAX_PAYLOAD_SIZE = 100 * 1024;\n",
              "\n",
              "function _uploadFiles(inputId, outputId) {\n",
              "  const steps = uploadFilesStep(inputId, outputId);\n",
              "  const outputElement = document.getElementById(outputId);\n",
              "  // Cache steps on the outputElement to make it available for the next call\n",
              "  // to uploadFilesContinue from Python.\n",
              "  outputElement.steps = steps;\n",
              "\n",
              "  return _uploadFilesContinue(outputId);\n",
              "}\n",
              "\n",
              "// This is roughly an async generator (not supported in the browser yet),\n",
              "// where there are multiple asynchronous steps and the Python side is going\n",
              "// to poll for completion of each step.\n",
              "// This uses a Promise to block the python side on completion of each step,\n",
              "// then passes the result of the previous step as the input to the next step.\n",
              "function _uploadFilesContinue(outputId) {\n",
              "  const outputElement = document.getElementById(outputId);\n",
              "  const steps = outputElement.steps;\n",
              "\n",
              "  const next = steps.next(outputElement.lastPromiseValue);\n",
              "  return Promise.resolve(next.value.promise).then((value) => {\n",
              "    // Cache the last promise value to make it available to the next\n",
              "    // step of the generator.\n",
              "    outputElement.lastPromiseValue = value;\n",
              "    return next.value.response;\n",
              "  });\n",
              "}\n",
              "\n",
              "/**\n",
              " * Generator function which is called between each async step of the upload\n",
              " * process.\n",
              " * @param {string} inputId Element ID of the input file picker element.\n",
              " * @param {string} outputId Element ID of the output display.\n",
              " * @return {!Iterable<!Object>} Iterable of next steps.\n",
              " */\n",
              "function* uploadFilesStep(inputId, outputId) {\n",
              "  const inputElement = document.getElementById(inputId);\n",
              "  inputElement.disabled = false;\n",
              "\n",
              "  const outputElement = document.getElementById(outputId);\n",
              "  outputElement.innerHTML = '';\n",
              "\n",
              "  const pickedPromise = new Promise((resolve) => {\n",
              "    inputElement.addEventListener('change', (e) => {\n",
              "      resolve(e.target.files);\n",
              "    });\n",
              "  });\n",
              "\n",
              "  const cancel = document.createElement('button');\n",
              "  inputElement.parentElement.appendChild(cancel);\n",
              "  cancel.textContent = 'Cancel upload';\n",
              "  const cancelPromise = new Promise((resolve) => {\n",
              "    cancel.onclick = () => {\n",
              "      resolve(null);\n",
              "    };\n",
              "  });\n",
              "\n",
              "  // Wait for the user to pick the files.\n",
              "  const files = yield {\n",
              "    promise: Promise.race([pickedPromise, cancelPromise]),\n",
              "    response: {\n",
              "      action: 'starting',\n",
              "    }\n",
              "  };\n",
              "\n",
              "  cancel.remove();\n",
              "\n",
              "  // Disable the input element since further picks are not allowed.\n",
              "  inputElement.disabled = true;\n",
              "\n",
              "  if (!files) {\n",
              "    return {\n",
              "      response: {\n",
              "        action: 'complete',\n",
              "      }\n",
              "    };\n",
              "  }\n",
              "\n",
              "  for (const file of files) {\n",
              "    const li = document.createElement('li');\n",
              "    li.append(span(file.name, {fontWeight: 'bold'}));\n",
              "    li.append(span(\n",
              "        `(${file.type || 'n/a'}) - ${file.size} bytes, ` +\n",
              "        `last modified: ${\n",
              "            file.lastModifiedDate ? file.lastModifiedDate.toLocaleDateString() :\n",
              "                                    'n/a'} - `));\n",
              "    const percent = span('0% done');\n",
              "    li.appendChild(percent);\n",
              "\n",
              "    outputElement.appendChild(li);\n",
              "\n",
              "    const fileDataPromise = new Promise((resolve) => {\n",
              "      const reader = new FileReader();\n",
              "      reader.onload = (e) => {\n",
              "        resolve(e.target.result);\n",
              "      };\n",
              "      reader.readAsArrayBuffer(file);\n",
              "    });\n",
              "    // Wait for the data to be ready.\n",
              "    let fileData = yield {\n",
              "      promise: fileDataPromise,\n",
              "      response: {\n",
              "        action: 'continue',\n",
              "      }\n",
              "    };\n",
              "\n",
              "    // Use a chunked sending to avoid message size limits. See b/62115660.\n",
              "    let position = 0;\n",
              "    do {\n",
              "      const length = Math.min(fileData.byteLength - position, MAX_PAYLOAD_SIZE);\n",
              "      const chunk = new Uint8Array(fileData, position, length);\n",
              "      position += length;\n",
              "\n",
              "      const base64 = btoa(String.fromCharCode.apply(null, chunk));\n",
              "      yield {\n",
              "        response: {\n",
              "          action: 'append',\n",
              "          file: file.name,\n",
              "          data: base64,\n",
              "        },\n",
              "      };\n",
              "\n",
              "      let percentDone = fileData.byteLength === 0 ?\n",
              "          100 :\n",
              "          Math.round((position / fileData.byteLength) * 100);\n",
              "      percent.textContent = `${percentDone}% done`;\n",
              "\n",
              "    } while (position < fileData.byteLength);\n",
              "  }\n",
              "\n",
              "  // All done.\n",
              "  yield {\n",
              "    response: {\n",
              "      action: 'complete',\n",
              "    }\n",
              "  };\n",
              "}\n",
              "\n",
              "scope.google = scope.google || {};\n",
              "scope.google.colab = scope.google.colab || {};\n",
              "scope.google.colab._files = {\n",
              "  _uploadFiles,\n",
              "  _uploadFilesContinue,\n",
              "};\n",
              "})(self);\n",
              "</script> "
            ]
          },
          "metadata": {}
        },
        {
          "output_type": "stream",
          "name": "stdout",
          "text": [
            "Saving maaslar.txt to maaslar.txt\n"
          ]
        }
      ],
      "source": [
        "uploaded = files.upload()"
      ]
    },
    {
      "cell_type": "markdown",
      "metadata": {
        "id": "5oY-BRwEkmCe"
      },
      "source": [
        "# SIMPLE LINEAR REGRESSION\n",
        "\n",
        "We will try to find line of best fit using *y = ax + b*.\n",
        "\n",
        "example for simple linear regression:\n",
        "\n",
        "*sales = a + b (months) + e*\n"
      ]
    },
    {
      "cell_type": "code",
      "execution_count": null,
      "metadata": {
        "colab": {
          "background_save": true
        },
        "id": "SSJmQqyHmnxv"
      },
      "outputs": [],
      "source": [
        "data = pd.read_csv(io.BytesIO(uploaded['satislar.txt']))\n",
        "print(\"Done\")"
      ]
    },
    {
      "cell_type": "code",
      "execution_count": null,
      "metadata": {
        "colab": {
          "background_save": true
        },
        "id": "WGzGMsw0kr7n"
      },
      "outputs": [],
      "source": [
        "months = data[['Aylar']]\n",
        "sales = data[['Satislar']]\n",
        "print(sales)\n",
        "# or we can use instead of data[['Satislar']]\n",
        "# sales2 = data.iloc[:,1:2].values\n",
        "# here months is independent sales is dependent variable.\n",
        "from sklearn.model_selection import train_test_split\n",
        "x_train, x_test, y_train, y_test = train_test_split(months, sales, \n",
        "                                                    test_size=0.33,\n",
        "                                                    random_state=0)\n",
        "\n",
        "# standardize data\n",
        "\n",
        "# from sklearn.preprocessing import StandardScaler\n",
        "# sc = StandardScaler()\n",
        "# X_train = sc.fit_transform(x_train)\n",
        "# X_test = sc.fit_transform(x_test)\n",
        "\n",
        "# Y_train = sc.fit_transform(y_train)\n",
        "# Y_test = sc.fit_transform(y_test)"
      ]
    },
    {
      "cell_type": "code",
      "execution_count": null,
      "metadata": {
        "id": "RdpXiZYp643J"
      },
      "outputs": [],
      "source": [
        "from sklearn.linear_model import LinearRegression\n",
        "lr = LinearRegression()\n",
        "lr.fit(x_train, y_train)\n",
        "predict = lr.predict(x_test)"
      ]
    },
    {
      "cell_type": "markdown",
      "metadata": {
        "id": "LURLSU5_-RNY"
      },
      "source": [
        "Make graph of datas using matplotlib.pyplot"
      ]
    },
    {
      "cell_type": "code",
      "execution_count": null,
      "metadata": {
        "id": "-oeaRRiH-YAg"
      },
      "outputs": [],
      "source": [
        "# first sort values by index\n",
        "x_train = x_train.sort_index()\n",
        "y_train = y_train.sort_index()\n",
        "\n",
        "plt.plot(x_train, y_train)\n",
        "plt.plot(x_test, lr.predict(x_test))\n",
        "\n",
        "plt.title(\"Sale Prediction\")\n",
        "plt.xlabel(\"Months\")\n",
        "plt.ylabel(\"Sales\")"
      ]
    },
    {
      "cell_type": "markdown",
      "metadata": {
        "id": "Fy1BlSR5Aqa4"
      },
      "source": [
        "# MULTIPLE LINEAR REGRESSION\n",
        "\n",
        "*y = (beta0) + (beta1)(x1) + (beta2)(x2) + (beta3)(x3) + epsilon*\n",
        "\n",
        "example for multiple linear regression:\n",
        "\n",
        "*height = a + b(weight) + c(age) + d(foot size) + e*\n"
      ]
    },
    {
      "cell_type": "markdown",
      "metadata": {
        "id": "Q3p7UNzuKQtr"
      },
      "source": [
        "---\n",
        "\n",
        "> Be aware of dummy variable trap situation. Some algorithms effect much than others.\n",
        "\n",
        "> It's happen when we change categorical data to numerical like one hat encoding.\n",
        "\n",
        "---"
      ]
    },
    {
      "cell_type": "code",
      "execution_count": null,
      "metadata": {
        "id": "tzPRSsrLmxR0"
      },
      "outputs": [],
      "source": [
        "data = pd.read_csv(io.BytesIO(uploaded['veriler.txt']))\n",
        "print(\"Done\")"
      ]
    },
    {
      "cell_type": "code",
      "execution_count": null,
      "metadata": {
        "id": "8wX4O07HKqd4"
      },
      "outputs": [],
      "source": [
        "# encode sex column to 1s and 0s\n",
        "c = data.iloc[:,-1:].values\n",
        "\n",
        "from sklearn import preprocessing\n",
        "\n",
        "le = preprocessing.LabelEncoder()\n",
        "c[:,-1] = le.fit_transform(data.iloc[:,-1])\n",
        "\n",
        "ohe = preprocessing.OneHotEncoder()\n",
        "c = ohe.fit_transform(c).toarray()\n",
        "\n",
        "# below code is from before little modified\n",
        "country = data.iloc[:,0:1].values\n",
        "\n",
        "le = preprocessing.LabelEncoder()\n",
        "country[:,0] = le.fit_transform(data.iloc[:,0])\n",
        "\n",
        "ohe = preprocessing.OneHotEncoder()\n",
        "country = ohe.fit_transform(country).toarray()\n",
        "\n",
        "\n",
        "\n",
        "age = data.iloc[:,1:4].values\n",
        "\n",
        "dataLength = len(data)\n",
        "\n",
        "result = pd.DataFrame(data=country, index = range(dataLength),\n",
        "                      columns = ['fr', 'tr', 'us'])\n",
        "\n",
        "result2 = pd.DataFrame(data = age, index = range(dataLength),\n",
        "                       columns=['boy', 'kilo', 'yas'])\n",
        "sex = data.iloc[:,-1].values\n",
        "result3 = pd.DataFrame(data = c[:,:1], index = range(dataLength),\n",
        "                       columns=['cinsiyet'])\n",
        "\n",
        "\n",
        "s = pd.concat([result, result2], axis=1) \n",
        "s2 = pd.concat([s, result3], axis=1)\n",
        "print(s2)\n",
        "print(s)\n",
        "print(result3)\n",
        "# split sets\n",
        "from sklearn.model_selection import train_test_split\n",
        "x_train, x_test, y_train, y_test = train_test_split(s, result3, \n",
        "                                                    test_size=0.33,\n",
        "                                                    random_state=0)"
      ]
    },
    {
      "cell_type": "markdown",
      "metadata": {
        "id": "Di1uUq345zwQ"
      },
      "source": [
        "Train ML model using data and predict sex."
      ]
    },
    {
      "cell_type": "code",
      "execution_count": null,
      "metadata": {
        "id": "cSmyJWW2521h"
      },
      "outputs": [],
      "source": [
        "from sklearn.linear_model import LinearRegression\n",
        "regressor = LinearRegression()\n",
        "regressor.fit(x_train, y_train)\n",
        "\n",
        "y_predict = regressor.predict(x_test)\n",
        "print(y_predict)  # compare with y_test\n",
        "print(\"-----Real Results-----\")\n",
        "print(y_test)"
      ]
    },
    {
      "cell_type": "markdown",
      "metadata": {
        "id": "GOHzXjeZGZ1k"
      },
      "source": [
        "Predict height."
      ]
    },
    {
      "cell_type": "code",
      "execution_count": null,
      "metadata": {
        "id": "kdM0zC7VGfP_"
      },
      "outputs": [],
      "source": [
        "# first prepare data:\n",
        "height = s2.iloc[:,3:4].values\n",
        "\n",
        "left_side_of_height_column = s2.iloc[:,:3]\n",
        "right_side_of_height_column = s2.iloc[:,4:]\n",
        "\n",
        "without_height = pd.concat([left_side_of_height_column, right_side_of_height_column],\n",
        "                           axis = 1)\n",
        "\n",
        "x_train, x_test, y_train, y_test = train_test_split(without_height, height, \n",
        "                                                    test_size=0.33,\n",
        "                                                    random_state=0)\n",
        "\n",
        "r2 = LinearRegression()\n",
        "r2.fit(x_train, y_train)\n",
        "\n",
        "y_predict = r2.predict(x_test)\n",
        "# compare with y_test\n",
        "print(y_predict)\n",
        "print(\"-----Real Results-----\")\n",
        "print(y_test)"
      ]
    },
    {
      "cell_type": "markdown",
      "metadata": {
        "id": "gYlTkrK8Jd6S"
      },
      "source": [
        "# Backward Elimination\n",
        "\n",
        "In before section we used all data to predict height for example but maybe we don't need all data. In this section we will use backward elimination to erase some data.\n",
        "\n",
        "\n",
        "---\n",
        "\n",
        "\n",
        "p-value says that: \n",
        "\n",
        "How many example if I find that I can disprove null hypothesis. (p generally taken as 0.05 (%5))\n",
        "\n",
        "H0 is null, H1 is alternative hypothesis. null hypothesis possibility of being wrong increases when p gets smaller. At the same time, possibility of being right of H1 increases. Vice versa, when p gets bigger, null hypothesis is more likely to be true.\n",
        "\n",
        "\n",
        "In below code first we prepare data."
      ]
    },
    {
      "cell_type": "markdown",
      "metadata": {
        "id": "lrWvG6c3KkxL"
      },
      "source": [
        "Calculating p-value to eveluate success of model prediction. (continue using veriler.txt data)"
      ]
    },
    {
      "cell_type": "code",
      "execution_count": null,
      "metadata": {
        "id": "oahvrPVwKtfC"
      },
      "outputs": [],
      "source": [
        "# we will test values one by one by taking out and eveluating scores\n",
        "# will take out highest p-value then continue for next highest\n",
        "\n",
        "# IN OUR MODEL, we don't have constant beta0 variable. We are trying to add\n",
        "# that variable now. First we'll add a column has 22 ones in it.\n",
        "\n",
        "import statsmodels.api as sm\n",
        "\n",
        "beta0 = np.append(arr = np.ones((22,1)).astype(int), values=data, axis=1)\n",
        "# print(beta0)\n",
        "\n",
        "# X_l is array containing our independent variable, height is dependent var\n",
        "X_l = without_height.iloc[:,[0,1,2,3,4,5]].values\n",
        "X_l = np.array(X_l, dtype=float)\n",
        "\n",
        "# statistical results:\n",
        "model = sm.OLS(height, X_l).fit()\n",
        "print(model.summary())\n",
        "\n",
        "# we saw x5 has highest p value we delete 4th column (x5 => 4th column)it\n",
        "X_l = without_height.iloc[:,[0,1,2,3,5]].values\n",
        "X_l = np.array(X_l, dtype=float)\n",
        "model = sm.OLS(height, X_l).fit()\n",
        "print(model.summary())"
      ]
    },
    {
      "cell_type": "markdown",
      "metadata": {
        "id": "xf8lJdl3jVAB"
      },
      "source": [
        "# Polynomial Regression\n",
        "\n",
        "*y = (beta0) + (beta1)(x) + (beta2)(x^2) + ... + (betah)(x^h) + epsilon*\n",
        "\n",
        "\n",
        "or it can be **multi-varient**\n",
        "\n",
        "*y = (beta0) + (beta1)(x1) + (beta2)(x2) + (beta11)(x1^2) + (beta22)(x2^2) + (beta12)(x1)(x2) + epsilon*"
      ]
    },
    {
      "cell_type": "code",
      "execution_count": null,
      "metadata": {
        "id": "ggA1dTCBjoIp",
        "colab": {
          "base_uri": "https://localhost:8080/"
        },
        "outputId": "e24a2597-1d61-46ac-dfd4-988c9519e923"
      },
      "outputs": [
        {
          "output_type": "stream",
          "name": "stdout",
          "text": [
            "              unvan  Egitim Seviyesi   maas\n",
            "0             Cayci                1   2250\n",
            "1          Sekreter                2   2500\n",
            "2  Uzman Yardimcisi                3   3000\n",
            "3             Uzman                4   4000\n",
            "4  Proje Yoneticisi                5   5500\n",
            "5               Sef                6   7500\n",
            "6             Mudur                7  10000\n",
            "7          Direktor                8  15000\n",
            "8           C-level                9  25000\n",
            "9               CEO               10  50000\n"
          ]
        }
      ],
      "source": [
        "data = pd.read_csv(io.BytesIO(uploaded['maaslar.txt']))\n",
        "print(data)"
      ]
    },
    {
      "cell_type": "code",
      "execution_count": null,
      "metadata": {
        "id": "TCam5jH0m5x5",
        "colab": {
          "base_uri": "https://localhost:8080/",
          "height": 265
        },
        "outputId": "9afe6f1a-7037-48dd-b492-78a07d422524"
      },
      "outputs": [
        {
          "output_type": "display_data",
          "data": {
            "text/plain": [
              "<Figure size 432x288 with 1 Axes>"
            ],
            "image/png": "[encoded data removed]"
          },
          "metadata": {
            "needs_background": "light"
          }
        }
      ],
      "source": [
        "# import data and linear regression\n",
        "x = data.iloc[:,1:2]\n",
        "y = data.iloc[:,2:]\n",
        "# convert to numpy array\n",
        "X = x.values\n",
        "Y = y.values\n",
        "\n",
        "from sklearn.linear_model import LinearRegression\n",
        "lin_reg = LinearRegression()\n",
        "lin_reg.fit(X, Y)\n",
        "\n",
        "plt.scatter(X, Y, color='red')\n",
        "plt.plot(x, lin_reg.predict(X), color='blue')\n",
        "plt.show()"
      ]
    },
    {
      "cell_type": "code",
      "execution_count": null,
      "metadata": {
        "id": "vbAkr-8q4rIC",
        "colab": {
          "base_uri": "https://localhost:8080/",
          "height": 456
        },
        "outputId": "f83fe126-b14a-49a1-8125-60ceba19ee04"
      },
      "outputs": [
        {
          "output_type": "stream",
          "name": "stdout",
          "text": [
            "[[1.000e+00 1.000e+00 1.000e+00 1.000e+00 1.000e+00]\n",
            " [1.000e+00 2.000e+00 4.000e+00 8.000e+00 1.600e+01]\n",
            " [1.000e+00 3.000e+00 9.000e+00 2.700e+01 8.100e+01]\n",
            " [1.000e+00 4.000e+00 1.600e+01 6.400e+01 2.560e+02]\n",
            " [1.000e+00 5.000e+00 2.500e+01 1.250e+02 6.250e+02]\n",
            " [1.000e+00 6.000e+00 3.600e+01 2.160e+02 1.296e+03]\n",
            " [1.000e+00 7.000e+00 4.900e+01 3.430e+02 2.401e+03]\n",
            " [1.000e+00 8.000e+00 6.400e+01 5.120e+02 4.096e+03]\n",
            " [1.000e+00 9.000e+00 8.100e+01 7.290e+02 6.561e+03]\n",
            " [1.000e+00 1.000e+01 1.000e+02 1.000e+03 1.000e+04]]\n"
          ]
        },
        {
          "output_type": "execute_result",
          "data": {
            "text/plain": [
              "[<matplotlib.lines.Line2D at 0x7f61927896d0>]"
            ]
          },
          "metadata": {},
          "execution_count": 8
        },
        {
          "output_type": "display_data",
          "data": {
            "text/plain": [
              "<Figure size 432x288 with 1 Axes>"
            ],
            "image/png": "[encoded data removed]"
          },
          "metadata": {
            "needs_background": "light"
          }
        }
      ],
      "source": [
        "# Polynomial regression\n",
        "from sklearn.preprocessing import PolynomialFeatures\n",
        "poly_reg = PolynomialFeatures(degree = 4)\n",
        "x_poly = poly_reg.fit_transform(X)\n",
        "print(x_poly)\n",
        "\n",
        "lin_reg2 = LinearRegression()\n",
        "lin_reg2.fit(x_poly, y)\n",
        "plt.scatter(X,Y, color='green')\n",
        "plt.plot(X, lin_reg2.predict(poly_reg.fit_transform(X)), color='blue')"
      ]
    },
    {
      "cell_type": "code",
      "execution_count": null,
      "metadata": {
        "id": "Ibmmw87i9ZBs",
        "colab": {
          "base_uri": "https://localhost:8080/"
        },
        "outputId": "5c779475-25ea-4014-e032-71d59b2bc590"
      },
      "outputs": [
        {
          "output_type": "stream",
          "name": "stdout",
          "text": [
            "[[34716.66666667]]\n",
            "[[16923.33333333]]\n",
            "[[89041.66666669]]\n",
            "[[8146.9948718]]\n",
            "Linear Regression R2 values:\n",
            "0.6690412331929894\n",
            "\n",
            "Polynomial Regression R2 values:\n",
            "0.9973922891706615\n"
          ]
        }
      ],
      "source": [
        "# prediction using linear regression algorithm\n",
        "print(lin_reg.predict([[11]]))\n",
        "print(lin_reg.predict([[6.6]]))\n",
        "\n",
        "# prediction using polynomial regression algorithm\n",
        "print(lin_reg2.predict(poly_reg.fit_transform([[11]])))\n",
        "print(lin_reg2.predict(poly_reg.fit_transform([[6.6]])))\n",
        "\n",
        "# r2 values are\n",
        "from sklearn.metrics import r2_score\n",
        "\n",
        "print(\"Linear Regression R2 values:\")\n",
        "print(r2_score(Y, lin_reg.predict(X)))\n",
        "print(\"\")\n",
        "print(\"Polynomial Regression R2 values:\")\n",
        "print(r2_score(Y, lin_reg2.predict(poly_reg.fit_transform(X))))"
      ]
    }
  ],
  "metadata": {
    "colab": {
      "provenance": [],
      "authorship_tag": "ABX9TyNh6T/N0hKfSo0TJbLzl/qt"
    },
    "kernelspec": {
      "display_name": "Python 3",
      "name": "python3"
    },
    "language_info": {
      "name": "python"
    }
  },
  "nbformat": 4,
  "nbformat_minor": 0
}