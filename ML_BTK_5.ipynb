{
  "nbformat": 4,
  "nbformat_minor": 0,
  "metadata": {
    "colab": {
      "provenance": [],
      "authorship_tag": "ABX9TyMXb48wJSK9gpZ4gyNMgfgM"
    },
    "kernelspec": {
      "name": "python3",
      "display_name": "Python 3"
    },
    "language_info": {
      "name": "python"
    }
  },
  "cells": [
    {
      "cell_type": "markdown",
      "source": [
        "# Clustering / Introduction to unsupervised learning"
      ],
      "metadata": {
        "id": "wnH_zlcjgP43"
      }
    },
    {
      "cell_type": "markdown",
      "source": [
        "Kind of primative algorithm compared to others.\n",
        "\n",
        "Examples of usage:\n",
        "\n",
        "1) **Segmentation of customers**: Special discounts, fraud and threat detection, completion lack of information, product suggestion etc.\n",
        "\n",
        "2) **Segmentation of market**: behavioural, demographical, pyshcological, geographical etc. segmentations.\n",
        "\n",
        "3) **Medical and image processing**\n",
        "\n",
        "for short: **all** procedures done on subset of data."
      ],
      "metadata": {
        "id": "R3Jz2kYDhe1N"
      }
    },
    {
      "cell_type": "code",
      "source": [
        "import io\n",
        "import pandas as pd\n",
        "import numpy as np\n",
        "import matplotlib.pyplot as plt\n",
        "from google.colab import files"
      ],
      "metadata": {
        "id": "3tv99V0KuTXv"
      },
      "execution_count": 1,
      "outputs": []
    },
    {
      "cell_type": "code",
      "source": [
        "# use musteriler.txt\n",
        "uploaded = files.upload()"
      ],
      "metadata": {
        "colab": {
          "base_uri": "https://localhost:8080/",
          "height": 73
        },
        "id": "JTIRMprguW0v",
        "outputId": "994fd4bf-7777-42bf-8f17-3cea30618150"
      },
      "execution_count": 2,
      "outputs": [
        {
          "output_type": "display_data",
          "data": {
            "text/plain": [
              "<IPython.core.display.HTML object>"
            ],
            "text/html": [
              "\n",
              "     <input type=\"file\" id=\"files-b1d10141-5768-488f-a5ba-bcddd2f0a407\" name=\"files[]\" multiple disabled\n",
              "        style=\"border:none\" />\n",
              "     <output id=\"result-b1d10141-5768-488f-a5ba-bcddd2f0a407\">\n",
              "      Upload widget is only available when the cell has been executed in the\n",
              "      current browser session. Please rerun this cell to enable.\n",
              "      </output>\n",
              "      <script>// Copyright 2017 Google LLC\n",
              "//\n",
              "// Licensed under the Apache License, Version 2.0 (the \"License\");\n",
              "// you may not use this file except in compliance with the License.\n",
              "// You may obtain a copy of the License at\n",
              "//\n",
              "//      http://www.apache.org/licenses/LICENSE-2.0\n",
              "//\n",
              "// Unless required by applicable law or agreed to in writing, software\n",
              "// distributed under the License is distributed on an \"AS IS\" BASIS,\n",
              "// WITHOUT WARRANTIES OR CONDITIONS OF ANY KIND, either express or implied.\n",
              "// See the License for the specific language governing permissions and\n",
              "// limitations under the License.\n",
              "\n",
              "/**\n",
              " * @fileoverview Helpers for google.colab Python module.\n",
              " */\n",
              "(function(scope) {\n",
              "function span(text, styleAttributes = {}) {\n",
              "  const element = document.createElement('span');\n",
              "  element.textContent = text;\n",
              "  for (const key of Object.keys(styleAttributes)) {\n",
              "    element.style[key] = styleAttributes[key];\n",
              "  }\n",
              "  return element;\n",
              "}\n",
              "\n",
              "// Max number of bytes which will be uploaded at a time.\n",
              "const MAX_PAYLOAD_SIZE = 100 * 1024;\n",
              "\n",
              "function _uploadFiles(inputId, outputId) {\n",
              "  const steps = uploadFilesStep(inputId, outputId);\n",
              "  const outputElement = document.getElementById(outputId);\n",
              "  // Cache steps on the outputElement to make it available for the next call\n",
              "  // to uploadFilesContinue from Python.\n",
              "  outputElement.steps = steps;\n",
              "\n",
              "  return _uploadFilesContinue(outputId);\n",
              "}\n",
              "\n",
              "// This is roughly an async generator (not supported in the browser yet),\n",
              "// where there are multiple asynchronous steps and the Python side is going\n",
              "// to poll for completion of each step.\n",
              "// This uses a Promise to block the python side on completion of each step,\n",
              "// then passes the result of the previous step as the input to the next step.\n",
              "function _uploadFilesContinue(outputId) {\n",
              "  const outputElement = document.getElementById(outputId);\n",
              "  const steps = outputElement.steps;\n",
              "\n",
              "  const next = steps.next(outputElement.lastPromiseValue);\n",
              "  return Promise.resolve(next.value.promise).then((value) => {\n",
              "    // Cache the last promise value to make it available to the next\n",
              "    // step of the generator.\n",
              "    outputElement.lastPromiseValue = value;\n",
              "    return next.value.response;\n",
              "  });\n",
              "}\n",
              "\n",
              "/**\n",
              " * Generator function which is called between each async step of the upload\n",
              " * process.\n",
              " * @param {string} inputId Element ID of the input file picker element.\n",
              " * @param {string} outputId Element ID of the output display.\n",
              " * @return {!Iterable<!Object>} Iterable of next steps.\n",
              " */\n",
              "function* uploadFilesStep(inputId, outputId) {\n",
              "  const inputElement = document.getElementById(inputId);\n",
              "  inputElement.disabled = false;\n",
              "\n",
              "  const outputElement = document.getElementById(outputId);\n",
              "  outputElement.innerHTML = '';\n",
              "\n",
              "  const pickedPromise = new Promise((resolve) => {\n",
              "    inputElement.addEventListener('change', (e) => {\n",
              "      resolve(e.target.files);\n",
              "    });\n",
              "  });\n",
              "\n",
              "  const cancel = document.createElement('button');\n",
              "  inputElement.parentElement.appendChild(cancel);\n",
              "  cancel.textContent = 'Cancel upload';\n",
              "  const cancelPromise = new Promise((resolve) => {\n",
              "    cancel.onclick = () => {\n",
              "      resolve(null);\n",
              "    };\n",
              "  });\n",
              "\n",
              "  // Wait for the user to pick the files.\n",
              "  const files = yield {\n",
              "    promise: Promise.race([pickedPromise, cancelPromise]),\n",
              "    response: {\n",
              "      action: 'starting',\n",
              "    }\n",
              "  };\n",
              "\n",
              "  cancel.remove();\n",
              "\n",
              "  // Disable the input element since further picks are not allowed.\n",
              "  inputElement.disabled = true;\n",
              "\n",
              "  if (!files) {\n",
              "    return {\n",
              "      response: {\n",
              "        action: 'complete',\n",
              "      }\n",
              "    };\n",
              "  }\n",
              "\n",
              "  for (const file of files) {\n",
              "    const li = document.createElement('li');\n",
              "    li.append(span(file.name, {fontWeight: 'bold'}));\n",
              "    li.append(span(\n",
              "        `(${file.type || 'n/a'}) - ${file.size} bytes, ` +\n",
              "        `last modified: ${\n",
              "            file.lastModifiedDate ? file.lastModifiedDate.toLocaleDateString() :\n",
              "                                    'n/a'} - `));\n",
              "    const percent = span('0% done');\n",
              "    li.appendChild(percent);\n",
              "\n",
              "    outputElement.appendChild(li);\n",
              "\n",
              "    const fileDataPromise = new Promise((resolve) => {\n",
              "      const reader = new FileReader();\n",
              "      reader.onload = (e) => {\n",
              "        resolve(e.target.result);\n",
              "      };\n",
              "      reader.readAsArrayBuffer(file);\n",
              "    });\n",
              "    // Wait for the data to be ready.\n",
              "    let fileData = yield {\n",
              "      promise: fileDataPromise,\n",
              "      response: {\n",
              "        action: 'continue',\n",
              "      }\n",
              "    };\n",
              "\n",
              "    // Use a chunked sending to avoid message size limits. See b/62115660.\n",
              "    let position = 0;\n",
              "    do {\n",
              "      const length = Math.min(fileData.byteLength - position, MAX_PAYLOAD_SIZE);\n",
              "      const chunk = new Uint8Array(fileData, position, length);\n",
              "      position += length;\n",
              "\n",
              "      const base64 = btoa(String.fromCharCode.apply(null, chunk));\n",
              "      yield {\n",
              "        response: {\n",
              "          action: 'append',\n",
              "          file: file.name,\n",
              "          data: base64,\n",
              "        },\n",
              "      };\n",
              "\n",
              "      let percentDone = fileData.byteLength === 0 ?\n",
              "          100 :\n",
              "          Math.round((position / fileData.byteLength) * 100);\n",
              "      percent.textContent = `${percentDone}% done`;\n",
              "\n",
              "    } while (position < fileData.byteLength);\n",
              "  }\n",
              "\n",
              "  // All done.\n",
              "  yield {\n",
              "    response: {\n",
              "      action: 'complete',\n",
              "    }\n",
              "  };\n",
              "}\n",
              "\n",
              "scope.google = scope.google || {};\n",
              "scope.google.colab = scope.google.colab || {};\n",
              "scope.google.colab._files = {\n",
              "  _uploadFiles,\n",
              "  _uploadFilesContinue,\n",
              "};\n",
              "})(self);\n",
              "</script> "
            ]
          },
          "metadata": {}
        },
        {
          "output_type": "stream",
          "name": "stdout",
          "text": [
            "Saving musteriler.txt to musteriler.txt\n"
          ]
        }
      ]
    },
    {
      "cell_type": "code",
      "source": [
        "data = pd.read_csv(io.BytesIO(uploaded['musteriler.txt']))\n",
        "data.head()\n",
        "# hacim is how much trade we done, maas is salary"
      ],
      "metadata": {
        "colab": {
          "base_uri": "https://localhost:8080/",
          "height": 206
        },
        "id": "IVCCiz12uZSY",
        "outputId": "e8b5ec10-c68a-49b7-abf5-b8a078754862"
      },
      "execution_count": 4,
      "outputs": [
        {
          "output_type": "execute_result",
          "data": {
            "text/plain": [
              "   No Cinsiyet  Yas  Hacim  Maas\n",
              "0   1        K   60  69900  6325\n",
              "1   2        K   30  79000  5200\n",
              "2   3        E   52  85500  7825\n",
              "3   4        E   57  17100  8375\n",
              "4   5        E   55   5500  5450"
            ],
            "text/html": [
              "\n",
              "  <div id=\"df-f78944a1-7b4d-404b-8ecd-cee038b6ed73\">\n",
              "    <div class=\"colab-df-container\">\n",
              "      <div>\n",
              "<style scoped>\n",
              "    .dataframe tbody tr th:only-of-type {\n",
              "        vertical-align: middle;\n",
              "    }\n",
              "\n",
              "    .dataframe tbody tr th {\n",
              "        vertical-align: top;\n",
              "    }\n",
              "\n",
              "    .dataframe thead th {\n",
              "        text-align: right;\n",
              "    }\n",
              "</style>\n",
              "<table border=\"1\" class=\"dataframe\">\n",
              "  <thead>\n",
              "    <tr style=\"text-align: right;\">\n",
              "      <th></th>\n",
              "      <th>No</th>\n",
              "      <th>Cinsiyet</th>\n",
              "      <th>Yas</th>\n",
              "      <th>Hacim</th>\n",
              "      <th>Maas</th>\n",
              "    </tr>\n",
              "  </thead>\n",
              "  <tbody>\n",
              "    <tr>\n",
              "      <th>0</th>\n",
              "      <td>1</td>\n",
              "      <td>K</td>\n",
              "      <td>60</td>\n",
              "      <td>69900</td>\n",
              "      <td>6325</td>\n",
              "    </tr>\n",
              "    <tr>\n",
              "      <th>1</th>\n",
              "      <td>2</td>\n",
              "      <td>K</td>\n",
              "      <td>30</td>\n",
              "      <td>79000</td>\n",
              "      <td>5200</td>\n",
              "    </tr>\n",
              "    <tr>\n",
              "      <th>2</th>\n",
              "      <td>3</td>\n",
              "      <td>E</td>\n",
              "      <td>52</td>\n",
              "      <td>85500</td>\n",
              "      <td>7825</td>\n",
              "    </tr>\n",
              "    <tr>\n",
              "      <th>3</th>\n",
              "      <td>4</td>\n",
              "      <td>E</td>\n",
              "      <td>57</td>\n",
              "      <td>17100</td>\n",
              "      <td>8375</td>\n",
              "    </tr>\n",
              "    <tr>\n",
              "      <th>4</th>\n",
              "      <td>5</td>\n",
              "      <td>E</td>\n",
              "      <td>55</td>\n",
              "      <td>5500</td>\n",
              "      <td>5450</td>\n",
              "    </tr>\n",
              "  </tbody>\n",
              "</table>\n",
              "</div>\n",
              "      <button class=\"colab-df-convert\" onclick=\"convertToInteractive('df-f78944a1-7b4d-404b-8ecd-cee038b6ed73')\"\n",
              "              title=\"Convert this dataframe to an interactive table.\"\n",
              "              style=\"display:none;\">\n",
              "        \n",
              "  <svg xmlns=\"http://www.w3.org/2000/svg\" height=\"24px\"viewBox=\"0 0 24 24\"\n",
              "       width=\"24px\">\n",
              "    <path d=\"M0 0h24v24H0V0z\" fill=\"none\"/>\n",
              "    <path d=\"M18.56 5.44l.94 2.06.94-2.06 2.06-.94-2.06-.94-.94-2.06-.94 2.06-2.06.94zm-11 1L8.5 8.5l.94-2.06 2.06-.94-2.06-.94L8.5 2.5l-.94 2.06-2.06.94zm10 10l.94 2.06.94-2.06 2.06-.94-2.06-.94-.94-2.06-.94 2.06-2.06.94z\"/><path d=\"M17.41 7.96l-1.37-1.37c-.4-.4-.92-.59-1.43-.59-.52 0-1.04.2-1.43.59L10.3 9.45l-7.72 7.72c-.78.78-.78 2.05 0 2.83L4 21.41c.39.39.9.59 1.41.59.51 0 1.02-.2 1.41-.59l7.78-7.78 2.81-2.81c.8-.78.8-2.07 0-2.86zM5.41 20L4 18.59l7.72-7.72 1.47 1.35L5.41 20z\"/>\n",
              "  </svg>\n",
              "      </button>\n",
              "      \n",
              "  <style>\n",
              "    .colab-df-container {\n",
              "      display:flex;\n",
              "      flex-wrap:wrap;\n",
              "      gap: 12px;\n",
              "    }\n",
              "\n",
              "    .colab-df-convert {\n",
              "      background-color: #E8F0FE;\n",
              "      border: none;\n",
              "      border-radius: 50%;\n",
              "      cursor: pointer;\n",
              "      display: none;\n",
              "      fill: #1967D2;\n",
              "      height: 32px;\n",
              "      padding: 0 0 0 0;\n",
              "      width: 32px;\n",
              "    }\n",
              "\n",
              "    .colab-df-convert:hover {\n",
              "      background-color: #E2EBFA;\n",
              "      box-shadow: 0px 1px 2px rgba(60, 64, 67, 0.3), 0px 1px 3px 1px rgba(60, 64, 67, 0.15);\n",
              "      fill: #174EA6;\n",
              "    }\n",
              "\n",
              "    [theme=dark] .colab-df-convert {\n",
              "      background-color: #3B4455;\n",
              "      fill: #D2E3FC;\n",
              "    }\n",
              "\n",
              "    [theme=dark] .colab-df-convert:hover {\n",
              "      background-color: #434B5C;\n",
              "      box-shadow: 0px 1px 3px 1px rgba(0, 0, 0, 0.15);\n",
              "      filter: drop-shadow(0px 1px 2px rgba(0, 0, 0, 0.3));\n",
              "      fill: #FFFFFF;\n",
              "    }\n",
              "  </style>\n",
              "\n",
              "      <script>\n",
              "        const buttonEl =\n",
              "          document.querySelector('#df-f78944a1-7b4d-404b-8ecd-cee038b6ed73 button.colab-df-convert');\n",
              "        buttonEl.style.display =\n",
              "          google.colab.kernel.accessAllowed ? 'block' : 'none';\n",
              "\n",
              "        async function convertToInteractive(key) {\n",
              "          const element = document.querySelector('#df-f78944a1-7b4d-404b-8ecd-cee038b6ed73');\n",
              "          const dataTable =\n",
              "            await google.colab.kernel.invokeFunction('convertToInteractive',\n",
              "                                                     [key], {});\n",
              "          if (!dataTable) return;\n",
              "\n",
              "          const docLinkHtml = 'Like what you see? Visit the ' +\n",
              "            '<a target=\"_blank\" href=https://colab.research.google.com/notebooks/data_table.ipynb>data table notebook</a>'\n",
              "            + ' to learn more about interactive tables.';\n",
              "          element.innerHTML = '';\n",
              "          dataTable['output_type'] = 'display_data';\n",
              "          await google.colab.output.renderOutput(dataTable, element);\n",
              "          const docLink = document.createElement('div');\n",
              "          docLink.innerHTML = docLinkHtml;\n",
              "          element.appendChild(docLink);\n",
              "        }\n",
              "      </script>\n",
              "    </div>\n",
              "  </div>\n",
              "  "
            ]
          },
          "metadata": {},
          "execution_count": 4
        }
      ]
    },
    {
      "cell_type": "markdown",
      "source": [
        "# Clustering: K-Means Algorithm"
      ],
      "metadata": {
        "id": "KoacCwOclSkX"
      }
    },
    {
      "cell_type": "markdown",
      "source": [
        "Unlike previous supervised learning,men-woman examples, we don't know value of data point. They are all same and they do not give any information to us.\n",
        "\n",
        "1) Algorithm need to take how many set should be (k value). Research subjects: which k value is best, X-means algorithm\n",
        "\n",
        "2) Select at random positions, k many center points.\n",
        "\n",
        "3) Every data point be appointed nearest centers' set.\n",
        "\n",
        "4) For every set, new center points are calculated (like center of gravity) and new center points are created.\n",
        "\n",
        "5) Repeat until becomes stable. \n",
        "\n",
        "---\n",
        "\n",
        "Since center points taken as random, it can cause problems when clustering. To solve this issue k-means++ algorithm is developed.\n",
        "\n",
        "---\n",
        "\n",
        "We can select how many clusters (K) there should be using **WCSS** (within-cluster sums of squares) method. Method will try to minimize WCSS value and select that K value however method will create a cluster for each datapoint, since if each cluster is a datapoint, distance will be equal to 0 then WCSS will be equal to zero (overfitting).\n",
        "\n",
        "By selecting knee point in WCSS-Number of Clusters(K) graph, we can overcome this issue.\n",
        "\n",
        "Note: we use this method when K is unidentified. If we know for example, how many customer group we will create or due to hardware limitations, we don't need WCSS."
      ],
      "metadata": {
        "id": "iKuY_acTlbPV"
      }
    },
    {
      "cell_type": "code",
      "source": [
        "# age and hacim\n",
        "X = data.iloc[:, 3:].values"
      ],
      "metadata": {
        "id": "EzUXIgdVnRWp"
      },
      "execution_count": 8,
      "outputs": []
    },
    {
      "cell_type": "code",
      "source": [
        "from sklearn.cluster import KMeans\n",
        "\n",
        "kmeans = KMeans(n_clusters = 3, init='k-means++')\n",
        "kmeans.fit(X)\n",
        "\n",
        "# print coordinates\n",
        "print(kmeans.cluster_centers_)"
      ],
      "metadata": {
        "colab": {
          "base_uri": "https://localhost:8080/"
        },
        "id": "bKZNSgipuCsh",
        "outputId": "6fbc826d-136c-4f56-83c0-ff6ca1bb0d86"
      },
      "execution_count": 16,
      "outputs": [
        {
          "output_type": "stream",
          "name": "stdout",
          "text": [
            "[[ 58643.47826087   5844.92753623]\n",
            " [104386.95652174   7289.13043478]\n",
            " [ 22069.41176471   5320.88235294]]\n"
          ]
        }
      ]
    },
    {
      "cell_type": "code",
      "source": [
        "# Find optimum value for K using WCSS\n",
        "results = []\n",
        "for i in range(1,11):\n",
        "  kmeans = KMeans(n_clusters = i, init='k-means++', random_state=123)\n",
        "  kmeans.fit(X)\n",
        "  # interia is WCSS value\n",
        "  results.append(kmeans.inertia_)\n",
        "\n",
        "# visualize WCSS values\n",
        "plt.plot(range(1,11), results)\n",
        "\n",
        "# from graph we can see that 4, 3 and 2 can be taken as K value"
      ],
      "metadata": {
        "colab": {
          "base_uri": "https://localhost:8080/",
          "height": 293
        },
        "id": "WZaWo_lvuHwX",
        "outputId": "2054a89c-1d0d-4af2-bd85-b7209cf651fd"
      },
      "execution_count": 25,
      "outputs": [
        {
          "output_type": "execute_result",
          "data": {
            "text/plain": [
              "[<matplotlib.lines.Line2D at 0x7f7b6eba72d0>]"
            ]
          },
          "metadata": {},
          "execution_count": 25
        },
        {
          "output_type": "display_data",
          "data": {
            "text/plain": [
              "<Figure size 432x288 with 1 Axes>"
            ],
            "image/png": "[encoded data removed]"
          },
          "metadata": {
            "needs_background": "light"
          }
        }
      ]
    },
    {
      "cell_type": "markdown",
      "source": [
        "# Clustering: Hierarchical Clustering"
      ],
      "metadata": {
        "id": "D7xcrfLuyhN_"
      }
    },
    {
      "cell_type": "markdown",
      "source": [
        "- Agglomerative: Bottom Up Approach \n",
        "\n",
        "- Divisive: Top Down Approach\n",
        "\n",
        "Explained in BTK 22.1 video."
      ],
      "metadata": {
        "id": "pHRxa4lrymKo"
      }
    },
    {
      "cell_type": "markdown",
      "source": [
        "![Hierarchical Clustering 4 Dendogram.PNG](data:image/png;base64,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)"
      ],
      "metadata": {
        "id": "uXbUzNx-16F_"
      }
    },
    {
      "cell_type": "markdown",
      "source": [
        "As we go higher in Y axis number clusters are created."
      ],
      "metadata": {
        "id": "3U9QSwjz2ATP"
      }
    }
  ]
}